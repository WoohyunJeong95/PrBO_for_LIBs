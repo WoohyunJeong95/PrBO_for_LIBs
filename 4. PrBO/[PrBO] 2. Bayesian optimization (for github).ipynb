{
 "cells": [
  {
   "cell_type": "code",
   "execution_count": null,
   "metadata": {},
   "outputs": [],
   "source": [
    "# import time\n",
    "# time.sleep(10*60*60)"
   ]
  },
  {
   "cell_type": "code",
   "execution_count": 2,
   "metadata": {},
   "outputs": [
    {
     "name": "stdout",
     "output_type": "stream",
     "text": [
      "24.9.0\n"
     ]
    }
   ],
   "source": [
    "import numpy as np\n",
    "import pandas as pd\n",
    "import matplotlib.pyplot as plt\n",
    "from scipy.stats import norm\n",
    "import pickle\n",
    "\n",
    "import pybamm\n",
    "from datetime import datetime, timedelta\n",
    "from time import time\n",
    "import mscc_aging_test_DOD100 as worker\n",
    "import multiprocessing as mp\n",
    "from scipy.optimize import minimize\n",
    "from joblib import Parallel, delayed\n",
    "\n",
    "from LIB_GP import*\n",
    "from LIB_acq_fun_min import*\n",
    "\n",
    "print(pybamm.__version__)\n",
    "plt.rcParams['font.family'] = 'Arial'\n",
    "plt.rcParams['font.size'] = 12"
   ]
  },
  {
   "cell_type": "code",
   "execution_count": 3,
   "metadata": {},
   "outputs": [],
   "source": [
    "import warnings\n",
    "from sklearn.exceptions import ConvergenceWarning\n",
    "warnings.simplefilter(\"ignore\", ConvergenceWarning)"
   ]
  },
  {
   "cell_type": "code",
   "execution_count": 4,
   "metadata": {},
   "outputs": [],
   "source": [
    "init_seed = 1000\n",
    "set_T_C = 25 \n",
    "cap_specs = [0.86,0.84,0.82,0.80] # capacity retention spec"
   ]
  },
  {
   "cell_type": "code",
   "execution_count": 5,
   "metadata": {},
   "outputs": [],
   "source": [
    "n_opt_start = 100\n",
    "n_MV = 5"
   ]
  },
  {
   "cell_type": "markdown",
   "metadata": {},
   "source": [
    "### 1. Initial data generation"
   ]
  },
  {
   "cell_type": "code",
   "execution_count": 6,
   "metadata": {},
   "outputs": [
    {
     "name": "stdout",
     "output_type": "stream",
     "text": [
      "[[0.2        0.4        0.3        3.7        4.05       3.63587004\n",
      "  0.86165137]\n",
      " [0.8        0.6        1.         3.7        4.1        1.49304886\n",
      "  0.84761826]\n",
      " [1.         1.2        1.         3.8        3.95       0.9669533\n",
      "  0.83026848]\n",
      " [1.4        1.4        1.         3.7        4.05       0.78265353\n",
      "  0.81509486]]\n"
     ]
    }
   ],
   "source": [
    "initial_data = np.load(f'PrBO_initial_data.npy')\n",
    "\n",
    "X_initial = initial_data[:,0:n_MV]\n",
    "y_initial = initial_data[:,n_MV:]\n",
    "n_initial = len(initial_data)\n",
    "print(initial_data)"
   ]
  },
  {
   "cell_type": "code",
   "execution_count": 7,
   "metadata": {},
   "outputs": [],
   "source": [
    "noise_y1 = np.zeros(100)\n",
    "noise_y2 = np.zeros(100)"
   ]
  },
  {
   "cell_type": "code",
   "execution_count": 8,
   "metadata": {
    "scrolled": true
   },
   "outputs": [
    {
     "data": {
      "text/html": [
       "<div>\n",
       "<style scoped>\n",
       "    .dataframe tbody tr th:only-of-type {\n",
       "        vertical-align: middle;\n",
       "    }\n",
       "\n",
       "    .dataframe tbody tr th {\n",
       "        vertical-align: top;\n",
       "    }\n",
       "\n",
       "    .dataframe thead th {\n",
       "        text-align: right;\n",
       "    }\n",
       "</style>\n",
       "<table border=\"1\" class=\"dataframe\">\n",
       "  <thead>\n",
       "    <tr style=\"text-align: right;\">\n",
       "      <th></th>\n",
       "      <th>x1</th>\n",
       "      <th>x2</th>\n",
       "      <th>x3</th>\n",
       "      <th>x4</th>\n",
       "      <th>x5</th>\n",
       "      <th>y1</th>\n",
       "      <th>y2</th>\n",
       "    </tr>\n",
       "  </thead>\n",
       "  <tbody>\n",
       "    <tr>\n",
       "      <th>0</th>\n",
       "      <td>0.2</td>\n",
       "      <td>0.4</td>\n",
       "      <td>0.3</td>\n",
       "      <td>3.7</td>\n",
       "      <td>4.05</td>\n",
       "      <td>3.635870</td>\n",
       "      <td>0.861651</td>\n",
       "    </tr>\n",
       "    <tr>\n",
       "      <th>1</th>\n",
       "      <td>0.8</td>\n",
       "      <td>0.6</td>\n",
       "      <td>1.0</td>\n",
       "      <td>3.7</td>\n",
       "      <td>4.10</td>\n",
       "      <td>1.493049</td>\n",
       "      <td>0.847618</td>\n",
       "    </tr>\n",
       "    <tr>\n",
       "      <th>2</th>\n",
       "      <td>1.0</td>\n",
       "      <td>1.2</td>\n",
       "      <td>1.0</td>\n",
       "      <td>3.8</td>\n",
       "      <td>3.95</td>\n",
       "      <td>0.966953</td>\n",
       "      <td>0.830268</td>\n",
       "    </tr>\n",
       "    <tr>\n",
       "      <th>3</th>\n",
       "      <td>1.4</td>\n",
       "      <td>1.4</td>\n",
       "      <td>1.0</td>\n",
       "      <td>3.7</td>\n",
       "      <td>4.05</td>\n",
       "      <td>0.782654</td>\n",
       "      <td>0.815095</td>\n",
       "    </tr>\n",
       "  </tbody>\n",
       "</table>\n",
       "</div>"
      ],
      "text/plain": [
       "    x1   x2   x3   x4    x5        y1        y2\n",
       "0  0.2  0.4  0.3  3.7  4.05  3.635870  0.861651\n",
       "1  0.8  0.6  1.0  3.7  4.10  1.493049  0.847618\n",
       "2  1.0  1.2  1.0  3.8  3.95  0.966953  0.830268\n",
       "3  1.4  1.4  1.0  3.7  4.05  0.782654  0.815095"
      ]
     },
     "execution_count": 8,
     "metadata": {},
     "output_type": "execute_result"
    }
   ],
   "source": [
    "df_io = pd.DataFrame(columns=['x1','x2','x3','x4','x5','y1','y2'])\n",
    "df_io['x1'] = X_initial[:,0]\n",
    "df_io['x2'] = X_initial[:,1]\n",
    "df_io['x3'] = X_initial[:,2]\n",
    "df_io['x4'] = X_initial[:,3]\n",
    "df_io['x5'] = X_initial[:,4]\n",
    "# df_io['y1'] = np.array(y_initial)[:,1]\n",
    "# df_io['y2'] = np.array(y_initial)[:,0]\n",
    "df_io['y1'] = y_initial[:,0]  #+ noise_y1[:len(y_initial[:,0])]\n",
    "df_io['y2'] = y_initial[:,1]  #+ noise_y2[:len(y_initial[:,1])]\n",
    "df_io"
   ]
  },
  {
   "cell_type": "code",
   "execution_count": 9,
   "metadata": {},
   "outputs": [
    {
     "name": "stdout",
     "output_type": "stream",
     "text": [
      "[[0.2  0.4  0.3  3.7  4.05]\n",
      " [0.8  0.6  1.   3.7  4.1 ]\n",
      " [1.   1.2  1.   3.8  3.95]\n",
      " [1.4  1.4  1.   3.7  4.05]]\n",
      "[[3.63587004 0.86165137]\n",
      " [1.49304886 0.84761826]\n",
      " [0.9669533  0.83026848]\n",
      " [0.78265353 0.81509486]]\n",
      "For capacity spec: 0.86\n",
      "How many samples satisfy capacity constraint?  1 / 4\n",
      "Current minimum charging time [h]:  3.6358700431704136\n",
      "\n",
      "For capacity spec: 0.84\n",
      "How many samples satisfy capacity constraint?  2 / 4\n",
      "Current minimum charging time [h]:  1.4930488550570296\n",
      "\n",
      "For capacity spec: 0.82\n",
      "How many samples satisfy capacity constraint?  3 / 4\n",
      "Current minimum charging time [h]:  0.9669532970602539\n",
      "\n",
      "For capacity spec: 0.8\n",
      "How many samples satisfy capacity constraint?  4 / 4\n",
      "Current minimum charging time [h]:  0.7826535327190598\n",
      "\n"
     ]
    }
   ],
   "source": [
    "# x, y data \n",
    "X_io = df_io[['x1','x2','x3','x4','x5']].values\n",
    "y_io = df_io[['y1','y2']].values\n",
    "print(X_io)\n",
    "print(y_io)\n",
    "\n",
    "for s in range(len(cap_specs)):\n",
    "    print(f'For capacity spec: {cap_specs[s]}')\n",
    "    # How many samples satisfy capacity constraint?\n",
    "    print(f'How many samples satisfy capacity constraint? ',(y_io[:,1] >=cap_specs[s]).sum(),'/',len(y_io))\n",
    "    # Current ch_time best\n",
    "    if (y_io[:,1] >=cap_specs[s]).sum() > 0: # constraint을 만족하는 sample이 하나라도 있을 때\n",
    "        ch_time_best = df_io[df_io['y2']>=cap_specs[s]].sort_values('y1').iloc[0]['y1']\n",
    "        print('Current minimum charging time [h]: ', ch_time_best)    \n",
    "    else:\n",
    "        print('No current minimum charging time')\n",
    "    print('')"
   ]
  },
  {
   "cell_type": "markdown",
   "metadata": {},
   "source": [
    "### 2. Bayesian optimization"
   ]
  },
  {
   "cell_type": "code",
   "execution_count": 10,
   "metadata": {},
   "outputs": [],
   "source": [
    "kernel_type = 'RBF'\n",
    "acq_type = 'EI'\n",
    "BO_iter = 7"
   ]
  },
  {
   "cell_type": "code",
   "execution_count": 12,
   "metadata": {},
   "outputs": [
    {
     "data": {
      "text/plain": [
       "array([[0.2 , 0.2 , 0.2 , 3.7 , 3.95],\n",
       "       [0.2 , 0.2 , 0.2 , 3.7 , 4.  ],\n",
       "       [0.2 , 0.2 , 0.2 , 3.7 , 4.05],\n",
       "       ...,\n",
       "       [2.  , 2.  , 1.  , 3.85, 4.  ],\n",
       "       [2.  , 2.  , 1.  , 3.85, 4.05],\n",
       "       [2.  , 2.  , 1.  , 3.85, 4.1 ]])"
      ]
     },
     "execution_count": 12,
     "metadata": {},
     "output_type": "execute_result"
    }
   ],
   "source": [
    "X_opt_start_candi = np.load('X_grid_var5.npy')\n",
    "X_opt_start_candi"
   ]
  },
  {
   "cell_type": "code",
   "execution_count": 13,
   "metadata": {},
   "outputs": [
    {
     "data": {
      "text/plain": [
       "14400"
      ]
     },
     "execution_count": 13,
     "metadata": {},
     "output_type": "execute_result"
    }
   ],
   "source": [
    "len(X_opt_start_candi)"
   ]
  },
  {
   "cell_type": "markdown",
   "metadata": {},
   "source": [
    "#### Minimize charging time while cap retention > cap_spec %"
   ]
  },
  {
   "cell_type": "code",
   "execution_count": 14,
   "metadata": {},
   "outputs": [],
   "source": [
    "import joblib\n",
    "ecm_interp = joblib.load('ecm_interp_knn.pkl')"
   ]
  },
  {
   "cell_type": "code",
   "execution_count": 15,
   "metadata": {
    "scrolled": true
   },
   "outputs": [
    {
     "name": "stdout",
     "output_type": "stream",
     "text": [
      "0.0008144736289978028 minutes\n"
     ]
    }
   ],
   "source": [
    "st_time = time()\n",
    "ecm_interp_X_opt_candi = ecm_interp.predict(X_opt_start_candi)\n",
    "ed_time = time()\n",
    "print((ed_time-st_time)/60, 'minutes') # 1시간 정도 걸렸음\n",
    "\n",
    "np.save('ecm_interp_X_opt_candi.npy',ecm_interp_X_opt_candi)"
   ]
  },
  {
   "cell_type": "code",
   "execution_count": 16,
   "metadata": {},
   "outputs": [],
   "source": [
    "ecm_interp_X_opt_candi = np.load('ecm_interp_X_opt_candi.npy')"
   ]
  },
  {
   "cell_type": "code",
   "execution_count": 17,
   "metadata": {
    "scrolled": false
   },
   "outputs": [
    {
     "name": "stdout",
     "output_type": "stream",
     "text": [
      "[[3.63587004 0.86165137]\n",
      " [1.49304886 0.84761826]\n",
      " [0.9669533  0.83026848]\n",
      " [0.78265353 0.81509486]]\n",
      "[[3.64567067 0.86012611]\n",
      " [1.49729116 0.84020466]\n",
      " [0.97002286 0.82002044]\n",
      " [0.78542323 0.80037281]]\n"
     ]
    }
   ],
   "source": [
    "y_ECM = ecm_interp.predict(X_io)\n",
    "print(y_io)\n",
    "print(y_ECM)"
   ]
  },
  {
   "cell_type": "code",
   "execution_count": 18,
   "metadata": {},
   "outputs": [],
   "source": [
    "def acq_neg(X,LIB_gp_y1,LIB_gp_y2,cap_spec,y_train):\n",
    "\n",
    "    X = X.reshape(-1,n_MV)\n",
    "    mu1, std1 = LIB_gp_y1.GP_predict(model_y1,X)\n",
    "    mu2, std2 = LIB_gp_y2.GP_predict(model_y2,X)\n",
    "    mu1 = mu1 + ecm_interp.predict(X).flatten()[0]\n",
    "    mu2 = mu2 + ecm_interp.predict(X).flatten()[1]\n",
    "\n",
    "    # Probability of Feasibility\n",
    "    pf_y2_lb = 1-norm.cdf(cap_spec,loc=mu2, scale=std2)\n",
    "\n",
    "    # Acquisition function\n",
    "    if (y_train[:,1]>=cap_spec).sum()==0: #constraint만족하는 sample이 하나도 없을 때\n",
    "        ac = pf_y2_lb\n",
    "    else:\n",
    "        ch_time_best = np.sort(y_train[y_train[:,1]>=cap_spec][:,0])[0]\n",
    "        LIB_acq = LIB_acq_fun(mu1,std1,acq_type=acq_type)\n",
    "        EI = LIB_acq.acq_fun(ch_time_best)    \n",
    "        ac = pf_y2_lb * EI\n",
    "\n",
    "    return -ac\n",
    "\n",
    "# Or Local optimum search ##############################################################\n",
    "## Pre-search로 X_opt_start 선별하기\n",
    "def acq_cal(j,LIB_gp_y1,LIB_gp_y2,cap_spec,y_train):\n",
    "    X_temp = X_opt_start_candi[j,:].reshape(-1,n_MV)\n",
    "    ecm_interp_Xj = ecm_interp_X_opt_candi[j]\n",
    "    mu1, std1 = LIB_gp_y1.GP_predict(model_y1,X_temp)\n",
    "    mu2, std2 = LIB_gp_y2.GP_predict(model_y2,X_temp)\n",
    "    mu1 = mu1 + ecm_interp_Xj[0]\n",
    "    mu2 = mu2 + ecm_interp_Xj[1]\n",
    "\n",
    "    # Probability of Feasibility\n",
    "    pf_y2_lb = 1-norm.cdf(cap_spec,loc=mu2, scale=std2)\n",
    "\n",
    "    # Acquisition function\n",
    "    if (y_train[:,1]>=cap_spec).sum()==0: #constraint만족하는 sample이 하나도 없을 때\n",
    "        ac = pf_y2_lb\n",
    "    else:\n",
    "        ch_time_best = np.sort(y_train[y_train[:,1]>=cap_spec][:,0])[0]\n",
    "        LIB_acq = LIB_acq_fun(mu1,std1,acq_type=acq_type)\n",
    "        EI = LIB_acq.acq_fun(ch_time_best)    \n",
    "        ac = pf_y2_lb * EI    \n",
    "\n",
    "    return ac"
   ]
  },
  {
   "cell_type": "code",
   "execution_count": 19,
   "metadata": {
    "scrolled": true
   },
   "outputs": [
    {
     "name": "stdout",
     "output_type": "stream",
     "text": [
      "BO iteration #0\n",
      "0.00316**2 * RBF(length_scale=1e+03)\n",
      "0.0122**2 * RBF(length_scale=2.44)\n",
      "Leave-one-out cross validation, R2 score for y1:  1.0\n",
      "Leave-one-out cross validation, R2 score for y2:  0.998\n",
      "Batch 1 recom:  [[0.4  2.   0.4  3.85 3.95]] [2.49924477 0.85410094]\n",
      "Batch 1 pred: [2.49782461] [0.86186864]\n",
      "Batch 1 std:  [0.00267261] [0.00424491]\n",
      "Batch 2 recom:  [[0.8823 0.888  0.9302 3.7001 4.0983]] [1.19391308 0.8305449 ]\n",
      "Batch 2 pred: [1.19249293] [0.8395384]\n",
      "Batch 2 std:  [0.00267261] [0.00073901]\n",
      "Batch 3 recom:  [[1.4471 1.2878 1.     3.7    4.0489]] [0.8356181  0.80644414]\n",
      "Batch 3 pred: [0.83419795] [0.82051446]\n",
      "Batch 3 std:  [0.00267261] [0.00103095]\n",
      "Batch 4 recom:  [[1.5504 1.5    1.     3.7    4.1   ]] [0.73634461 0.78663802]\n",
      "Batch 4 pred: [0.73492446] [0.80194972]\n",
      "Batch 4 std:  [0.00267261] [0.00121743]\n",
      "BO iteration #0:\n",
      "[[0.4        2.         0.4        3.85       3.95       2.48675645\n",
      "  0.85610637]\n",
      " [0.8823     0.888      0.9302     3.7001     4.0983     1.11401487\n",
      "  0.83703479]\n",
      " [1.4471     1.2878     1.         3.7        4.0489     0.81253859\n",
      "  0.81949889]\n",
      " [1.5504     1.5        1.         3.7        4.1        0.72780112\n",
      "  0.80360845]]\n",
      "It takes 18.654 min\n",
      "\n",
      "BO iteration #1\n",
      "0.0295**2 * RBF(length_scale=0.173)\n",
      "0.0112**2 * RBF(length_scale=1.6)\n",
      "Leave-one-out cross validation, R2 score for y1:  1.0\n",
      "Leave-one-out cross validation, R2 score for y2:  0.998\n",
      "Batch 1 recom:  [[0.4936 0.3007 1.     3.7007 4.0978]] [2.67639947 0.85429334]\n",
      "Batch 1 pred: [2.6768392] [0.85929823]\n",
      "Batch 1 std:  [0.02947606] [0.00184929]\n",
      "Batch 2 recom:  [[0.8908 0.7092 1.     3.7002 4.0785]] [1.19442773 0.83123099]\n",
      "Batch 2 pred: [1.16188652] [0.83873017]\n",
      "Batch 2 std:  [0.01858554] [0.00072677]\n",
      "Batch 3 recom:  [[1.4898 1.2786 1.     3.7015 4.0654]] [0.84285129 0.80736871]\n",
      "Batch 3 pred: [0.82229703] [0.82177746]\n",
      "Batch 3 std:  [0.01176097] [0.00073994]\n",
      "Batch 4 recom:  [[1.6 1.4 1.  3.8 4.1]] [0.73393484 0.78654854]\n",
      "Batch 4 pred: [0.7228219] [0.80248104]\n",
      "Batch 4 std:  [0.02138277] [0.00109954]\n",
      "BO iteration #1:\n",
      "[[0.4936     0.3007     1.         3.7007     4.0978     2.80007455\n",
      "  0.86023417]\n",
      " [0.8908     0.7092     1.         3.7002     4.0785     1.27330901\n",
      "  0.84243202]\n",
      " [1.4898     1.2786     1.         3.7015     4.0654     0.80859396\n",
      "  0.81862042]\n",
      " [1.6        1.4        1.         3.8        4.1        0.72964053\n",
      "  0.80632408]]\n",
      "It takes 18.616 min\n",
      "\n",
      "BO iteration #2\n",
      "0.0496**2 * RBF(length_scale=0.0768)\n",
      "0.00936**2 * RBF(length_scale=0.371)\n",
      "Leave-one-out cross validation, R2 score for y1:  1.0\n",
      "Leave-one-out cross validation, R2 score for y2:  0.996\n",
      "Batch 1 recom:  [[0.4  0.4  1.   3.85 4.1 ]] [2.40258063 0.85399261]\n",
      "Batch 1 pred: [2.40629853] [0.85862099]\n",
      "Batch 1 std:  [0.04953238] [0.00479644]\n",
      "Batch 2 recom:  [[1.0679 0.7458 1.     3.7206 3.9706]] [1.10594814 0.82712354]\n",
      "Batch 2 pred: [1.10767438] [0.84028858]\n",
      "Batch 2 std:  [0.04954319] [0.00389362]\n",
      "Batch 3 recom:  [[1.4889 1.4671 0.998  3.838  4.0192]] [0.79750063 0.80154695]\n",
      "Batch 3 pred: [0.79651317] [0.82172334]\n",
      "Batch 3 std:  [0.04902586] [0.0027119]\n",
      "Batch 4 recom:  [[1.6015 1.5    1.     3.8478 4.1   ]] [0.71795962 0.78073325]\n",
      "Batch 4 pred: [0.71640958] [0.80208496]\n",
      "Batch 4 std:  [0.0463336] [0.00201185]\n",
      "BO iteration #2:\n",
      "[[0.4        0.4        1.         3.85       4.1        2.39380789\n",
      "  0.85743938]\n",
      " [1.0679     0.7458     1.         3.7206     3.9706     1.1315059\n",
      "  0.83617862]\n",
      " [1.4889     1.4671     0.998      3.838      4.0192     0.7653841\n",
      "  0.81353246]\n",
      " [1.6015     1.5        1.         3.8478     4.1        0.70980751\n",
      "  0.8005068 ]]\n",
      "It takes 18.654 min\n",
      "\n",
      "BO iteration #3\n",
      "0.044**2 * RBF(length_scale=0.0797)\n",
      "0.00816**2 * RBF(length_scale=0.246)\n",
      "Leave-one-out cross validation, R2 score for y1:  1.0\n",
      "Leave-one-out cross validation, R2 score for y2:  0.999\n",
      "Batch 1 recom:  [[0.4 0.4 1.  3.7 4.1]] [2.40258056 0.85399252]\n",
      "Batch 1 pred: [2.42761249] [0.85867662]\n",
      "Batch 1 std:  [0.04234122] [0.00341021]\n",
      "Batch 2 recom:  [[0.8918 0.8378 0.9932 3.7104 4.043 ]] [1.19090679 0.83107264]\n",
      "Batch 2 pred: [1.17421612] [0.84048934]\n",
      "Batch 2 std:  [0.03806558] [0.00207567]\n",
      "Batch 3 recom:  [[1.2936 1.2973 0.9996 3.7    4.0506]] [0.85312137 0.80883116]\n",
      "Batch 3 pred: [0.8533848] [0.82232234]\n",
      "Batch 3 std:  [0.04284252] [0.00284233]\n",
      "Batch 4 recom:  [[1.5028 1.5    0.9856 3.7957 4.0957]] [0.73996158 0.78792482]\n",
      "Batch 4 pred: [0.72288477] [0.80441099]\n",
      "Batch 4 std:  [0.03398079] [0.00165456]\n",
      "BO iteration #3:\n",
      "[[0.4        0.4        1.         3.7        4.1        2.39380773\n",
      "  0.85745068]\n",
      " [0.8918     0.8378     0.9932     3.7104     4.043      1.12634703\n",
      "  0.83733896]\n",
      " [1.2936     1.2973     0.9996     3.7        4.0506     0.82372074\n",
      "  0.82011541]\n",
      " [1.5028     1.5        0.9856     3.7957     4.0957     0.73618623\n",
      "  0.80468605]]\n",
      "It takes 18.779 min\n",
      "\n",
      "BO iteration #4\n",
      "0.0416**2 * RBF(length_scale=0.071)\n",
      "0.00761**2 * RBF(length_scale=0.25)\n",
      "Leave-one-out cross validation, R2 score for y1:  1.0\n",
      "Leave-one-out cross validation, R2 score for y2:  0.997\n",
      "Batch 1 recom:  [[0.488  0.3099 0.729  3.7646 4.0858]] [2.34851046 0.85183327]\n",
      "Batch 1 pred: [2.34856121] [0.85510795]\n",
      "Batch 1 std:  [0.04156471] [0.00633255]\n",
      "Batch 2 recom:  [[1.0171 0.7125 0.9739 3.7    4.0998]] [1.13941545 0.8284894 ]\n",
      "Batch 2 pred: [1.15593414] [0.84047655]\n",
      "Batch 2 std:  [0.04062011] [0.00254125]\n",
      "Batch 3 recom:  [[1.3026 1.2912 0.9991 3.7001 4.1   ]] [0.83108427 0.80617029]\n",
      "Batch 3 pred: [0.80937664] [0.81767481]\n",
      "Batch 3 std:  [0.02726605] [0.00164923]\n",
      "Batch 4 recom:  [[1.6471 1.5001 1.     3.771  4.1   ]] [0.72263826 0.78219261]\n",
      "Batch 4 pred: [0.71816196] [0.80181067]\n",
      "Batch 4 std:  [0.03585937] [0.0015857]\n",
      "BO iteration #4:\n",
      "[[0.488      0.3099     0.729      3.7646     4.0858     2.45765606\n",
      "  0.8562534 ]\n",
      " [1.0171     0.7125     0.9739     3.7        4.0998     1.25976942\n",
      "  0.84246929]\n",
      " [1.3026     1.2912     0.9991     3.7001     4.1        0.81182964\n",
      "  0.8176008 ]\n",
      " [1.6471     1.5001     1.         3.771      4.1        0.71158026\n",
      "  0.80117766]]\n",
      "It takes 18.603 min\n",
      "\n",
      "BO iteration #5\n",
      "0.0548**2 * RBF(length_scale=0.118)\n",
      "0.00744**2 * RBF(length_scale=0.26)\n",
      "Leave-one-out cross validation, R2 score for y1:  1.0\n",
      "Leave-one-out cross validation, R2 score for y2:  0.998\n",
      "Batch 1 recom:  [[0.9999 0.4    1.     3.7    4.1   ]] [2.07355895 0.84593736]\n",
      "Batch 1 pred: [2.07551166] [0.85409637]\n",
      "Batch 1 std:  [0.05468008] [0.00552126]\n",
      "Batch 2 recom:  [[0.9995 0.8038 1.     3.7005 4.1   ]] [1.15099265 0.82919331]\n",
      "Batch 2 pred: [1.19106294] [0.84049787]\n",
      "Batch 2 std:  [0.03277657] [0.00168199]\n",
      "Batch 3 recom:  [[1.1768 1.296  1.     3.7093 4.0271]] [0.86327885 0.80994488]\n",
      "Batch 3 pred: [0.83980637] [0.8210031]\n",
      "Batch 3 std:  [0.04126988] [0.00181333]\n",
      "Batch 4 recom:  [[1.6993 1.3167 0.9679 3.7    4.0998]] [0.75622276 0.79089894]\n",
      "Batch 4 pred: [0.74985707] [0.80494426]\n",
      "Batch 4 std:  [0.04916046] [0.00313105]\n",
      "BO iteration #5:\n",
      "[[0.9999     0.4        1.         3.7        4.1        2.0696035\n",
      "  0.85418206]\n",
      " [0.9995     0.8038     1.         3.7005     4.1        1.15201311\n",
      "  0.83933034]\n",
      " [1.1768     1.296      1.         3.7093     4.0271     0.84614699\n",
      "  0.82223004]\n",
      " [1.6993     1.3167     0.9679     3.7        4.0998     0.78123223\n",
      "  0.81364412]]\n",
      "It takes 18.534 min\n",
      "\n",
      "BO iteration #6\n",
      "0.0515**2 * RBF(length_scale=0.114)\n",
      "0.00837**2 * RBF(length_scale=0.298)\n",
      "Leave-one-out cross validation, R2 score for y1:  1.0\n",
      "Leave-one-out cross validation, R2 score for y2:  0.997\n",
      "Batch 1 recom:  [[0.4  1.6  0.5  3.85 3.95]] [2.28513174 0.85160982]\n",
      "Batch 1 pred: [2.2851136] [0.85254236]\n",
      "Batch 1 std:  [0.05152959] [0.00773156]\n",
      "Batch 2 recom:  [[1.  0.8 1.  3.7 4.1]] [1.1591056  0.82955908]\n",
      "Batch 2 pred: [1.16861627] [0.8402379]\n",
      "Batch 2 std:  [0.0093962] [0.00081956]\n",
      "Batch 3 recom:  [[1.2134 1.4229 0.9732 3.7585 4.0419]] [0.83332928 0.80631688]\n",
      "Batch 3 pred: [0.82438114] [0.81991926]\n",
      "Batch 3 std:  [0.04473228] [0.00237922]\n",
      "Batch 4 recom:  [[1.5248 1.3063 0.9742 3.8259 4.1   ]] [0.73994665 0.78618717]\n",
      "Batch 4 pred: [0.72408738] [0.80153787]\n",
      "Batch 4 std:  [0.03738569] [0.00185569]\n",
      "BO iteration #6:\n",
      "[[0.4        1.6        0.5        3.85       3.95       2.27379508\n",
      "  0.85295226]\n",
      " [1.         0.8        1.         3.7        4.1        1.15603412\n",
      "  0.83947632]\n",
      " [1.2134     1.4229     0.9732     3.7585     4.0419     0.8274101\n",
      "  0.81802299]\n",
      " [1.5248     1.3063     0.9742     3.8259     4.1        0.75934583\n",
      "  0.81156903]]\n",
      "It takes 18.379 min\n",
      "\n",
      "In total, it takes 2.17 hr\n"
     ]
    }
   ],
   "source": [
    "X_train, y_train = X_io, y_io \n",
    "\n",
    "st_st_time = time()\n",
    "for iteration in range(BO_iter):\n",
    "    print(f'BO iteration #{iteration}')\n",
    "    st_time = time()\n",
    "    \n",
    "    y1_train = (y_train[:,0]-y_ECM[:,0]).reshape(-1,1)\n",
    "    y2_train = (y_train[:,1]-y_ECM[:,1]).reshape(-1,1)\n",
    "    \n",
    "    LIB_gp_y1 = LIB_GP(kernel_type,alpha=1e-4)\n",
    "    model_y1 = LIB_gp_y1.GP_fit(X_train,y1_train)\n",
    "    LIB_gp_y2 = LIB_GP(kernel_type,alpha=1e-6)\n",
    "    model_y2 = LIB_gp_y2.GP_fit(X_train,y2_train)\n",
    "\n",
    "    \n",
    "    print(model_y1.kernel_)\n",
    "    print(model_y2.kernel_)\n",
    "    R2score_y1 = LIB_gp_y1.GP_leave_one_out_cv_PrBO(X_train,y1_train,model_y1.kernel_,y_ECM[:,0],y_train[:,0])\n",
    "    R2score_y2 = LIB_gp_y2.GP_leave_one_out_cv_PrBO(X_train,y2_train,model_y2.kernel_,y_ECM[:,1],y_train[:,1])    \n",
    "    print('Leave-one-out cross validation, R2 score for y1: ', np.round(R2score_y1, 3))\n",
    "    print('Leave-one-out cross validation, R2 score for y2: ', np.round(R2score_y2, 3))    \n",
    "   \n",
    "    ### 3. Acquisition function\n",
    "    n_cores = 10\n",
    "    acq_cal_result = Parallel(n_jobs=int(n_cores))(delayed(acq_cal)(j,LIB_gp_y1,LIB_gp_y2,cap_specs[0],y_train) for j in range(len(X_opt_start_candi)))\n",
    "    acq_cal_result = np.array(acq_cal_result).flatten()\n",
    "    X_opt_start = X_opt_start_candi[acq_cal_result.argsort()[::-1]][:n_opt_start]\n",
    "    \n",
    "    bnds = [(0.2,2.0),(0.2,2.0), (0.2,1.0), (3.7,3.85),(3.95,4.1)]\n",
    "    def acq_opt(j):\n",
    "        res = minimize(fun=acq_neg,x0=X_opt_start[j,:], method='SLSQP',bounds=bnds,args=(LIB_gp_y1,LIB_gp_y2,cap_specs[0],y_train))\n",
    "        return res.x, -res.fun\n",
    "    n_cores = -1\n",
    "    n_starts = len(X_opt_start)\n",
    "    ac_result = Parallel(n_jobs=int(n_cores))(delayed(acq_opt)(j) for j in range(n_starts))\n",
    "    df_ac_result = pd.DataFrame(ac_result,columns=['X','acq fun'])\n",
    "    df_ac_result_sort = df_ac_result.sort_values('acq fun',ascending=False)    \n",
    "    next_X_1 = (np.round(df_ac_result_sort.iloc[0,0],4)).reshape(-1,n_MV)\n",
    "    ########################################################################################\n",
    "    \n",
    "    ecm_next_X_1 = ecm_interp.predict(next_X_1).flatten()\n",
    "    mu1_next_X_1, std1_next_X_1 = LIB_gp_y1.GP_predict(model_y1,next_X_1.reshape(-1,n_MV))\n",
    "    mu2_next_X_1, std2_next_X_1 = LIB_gp_y2.GP_predict(model_y2,next_X_1.reshape(-1,n_MV))\n",
    "    \n",
    "    print('Batch 1 recom: ', next_X_1, ecm_next_X_1)\n",
    "    print('Batch 1 pred:', ecm_next_X_1[0]+mu1_next_X_1, ecm_next_X_1[1] + mu2_next_X_1)\n",
    "    print('Batch 1 std: ', std1_next_X_1, std2_next_X_1)\n",
    "    ########################################################################################  \n",
    "    \n",
    "    # Batch BO 1 ##############################################################################  \n",
    "    acq_cal_result = Parallel(n_jobs=int(n_cores))(delayed(acq_cal)(j,LIB_gp_y1,LIB_gp_y2,cap_specs[1],y_train) for j in range(len(X_opt_start_candi)))\n",
    "    acq_cal_result = np.array(acq_cal_result).flatten()\n",
    "    X_opt_start = X_opt_start_candi[acq_cal_result.argsort()[::-1]][:n_opt_start]\n",
    "    \n",
    "    def acq_opt(j):\n",
    "        res = minimize(fun=acq_neg,x0=X_opt_start[j,:], method='SLSQP',bounds=bnds,args=(LIB_gp_y1,LIB_gp_y2,cap_specs[1],y_train))\n",
    "        return res.x, -res.fun\n",
    "    n_cores = -1\n",
    "    n_starts = len(X_opt_start)\n",
    "    ac_result = Parallel(n_jobs=int(n_cores))(delayed(acq_opt)(j) for j in range(n_starts))\n",
    "    df_ac_result = pd.DataFrame(ac_result,columns=['X','acq fun'])\n",
    "    df_ac_result_sort = df_ac_result.sort_values('acq fun',ascending=False)    \n",
    "    next_X_2 = (np.round(df_ac_result_sort.iloc[0,0],4)).reshape(-1,n_MV)\n",
    "    ########################################################################################\n",
    "    \n",
    "    ecm_next_X_2 = ecm_interp.predict(next_X_2).flatten()\n",
    "    mu1_next_X_2, std1_next_X_2 = LIB_gp_y1.GP_predict(model_y1,next_X_2.reshape(-1,n_MV))\n",
    "    mu2_next_X_2, std2_next_X_2 = LIB_gp_y2.GP_predict(model_y2,next_X_2.reshape(-1,n_MV))\n",
    "    \n",
    "    print('Batch 2 recom: ', next_X_2, ecm_next_X_2)\n",
    "    print('Batch 2 pred:', ecm_next_X_2[0]+mu1_next_X_2, ecm_next_X_2[1] + mu2_next_X_2)\n",
    "    print('Batch 2 std: ', std1_next_X_2, std2_next_X_2)\n",
    "    ########################################################################################     \n",
    "    \n",
    "    # Batch BO 2 ##############################################################################  \n",
    "    acq_cal_result = Parallel(n_jobs=int(n_cores))(delayed(acq_cal)(j,LIB_gp_y1,LIB_gp_y2,cap_specs[2],y_train) for j in range(len(X_opt_start_candi)))\n",
    "    acq_cal_result = np.array(acq_cal_result).flatten()\n",
    "    X_opt_start = X_opt_start_candi[acq_cal_result.argsort()[::-1]][:n_opt_start]\n",
    "\n",
    "    def acq_opt(j):\n",
    "        res = minimize(fun=acq_neg,x0=X_opt_start[j,:], method='SLSQP',bounds=bnds,args=(LIB_gp_y1,LIB_gp_y2,cap_specs[2],y_train))\n",
    "        return res.x, -res.fun\n",
    "    n_cores = 10\n",
    "    n_starts = len(X_opt_start)\n",
    "    ac_result = Parallel(n_jobs=int(n_cores))(delayed(acq_opt)(j) for j in range(n_starts))\n",
    "    df_ac_result = pd.DataFrame(ac_result,columns=['X','acq fun'])\n",
    "    df_ac_result_sort = df_ac_result.sort_values('acq fun',ascending=False)    \n",
    "    next_X_3 = (np.round(df_ac_result_sort.iloc[0,0],4)).reshape(-1,n_MV)\n",
    "    ########################################################################################\n",
    "    \n",
    "    ecm_next_X_3 = ecm_interp.predict(next_X_3).flatten()\n",
    "    mu1_next_X_3, std1_next_X_3 = LIB_gp_y1.GP_predict(model_y1,next_X_3.reshape(-1,n_MV))\n",
    "    mu2_next_X_3, std2_next_X_3 = LIB_gp_y2.GP_predict(model_y2,next_X_3.reshape(-1,n_MV))\n",
    "    \n",
    "    print('Batch 3 recom: ', next_X_3, ecm_next_X_3)\n",
    "    print('Batch 3 pred:', ecm_next_X_3[0]+mu1_next_X_3, ecm_next_X_3[1] + mu2_next_X_3)\n",
    "    print('Batch 3 std: ', std1_next_X_3, std2_next_X_3)\n",
    "    ########################################################################################      \n",
    "    \n",
    "    # Batch BO 3 ##############################################################################  \n",
    "    acq_cal_result = Parallel(n_jobs=int(n_cores))(delayed(acq_cal)(j,LIB_gp_y1,LIB_gp_y2,cap_specs[3],y_train) for j in range(len(X_opt_start_candi)))\n",
    "    acq_cal_result = np.array(acq_cal_result).flatten()\n",
    "    X_opt_start = X_opt_start_candi[acq_cal_result.argsort()[::-1]][:n_opt_start]\n",
    "    \n",
    "    def acq_opt(j):\n",
    "        res = minimize(fun=acq_neg,x0=X_opt_start[j,:], method='SLSQP',bounds=bnds,args=(LIB_gp_y1,LIB_gp_y2,cap_specs[3],y_train))\n",
    "        return res.x, -res.fun\n",
    "    n_cores = 10\n",
    "    n_starts = len(X_opt_start)\n",
    "    ac_result = Parallel(n_jobs=int(n_cores))(delayed(acq_opt)(j) for j in range(n_starts))\n",
    "    df_ac_result = pd.DataFrame(ac_result,columns=['X','acq fun'])\n",
    "    df_ac_result_sort = df_ac_result.sort_values('acq fun',ascending=False)    \n",
    "    next_X_4 = (np.round(df_ac_result_sort.iloc[0,0],4)).reshape(-1,n_MV)\n",
    "    ########################################################################################\n",
    "    \n",
    "    ecm_next_X_4 = ecm_interp.predict(next_X_4).flatten()\n",
    "    mu1_next_X_4, std1_next_X_4 = LIB_gp_y1.GP_predict(model_y1,next_X_4.reshape(-1,n_MV))\n",
    "    mu2_next_X_4, std2_next_X_4 = LIB_gp_y2.GP_predict(model_y2,next_X_4.reshape(-1,n_MV))\n",
    "    \n",
    "    print('Batch 4 recom: ', next_X_4, ecm_next_X_4)\n",
    "    print('Batch 4 pred:', ecm_next_X_4[0]+mu1_next_X_4, ecm_next_X_4[1] + mu2_next_X_4)\n",
    "    print('Batch 4 std: ', std1_next_X_4, std2_next_X_4)\n",
    "    ########################################################################################         \n",
    "    next_X_tot = np.concatenate([next_X_1,next_X_2,next_X_3,next_X_4]).reshape(-1,n_MV)      \n",
    "    p = mp.Pool(processes = 3) # 병렬 3개\n",
    "    next_y_EM = p.starmap(worker.aging_test_results,next_X_tot)\n",
    "    next_y_EM = np.array(next_y_EM).reshape(-1,2)\n",
    "    next_y1_noise = next_y_EM[:,0]#+ noise_y1[3*iteration+len(X_initial):3*(iteration+1)+len(X_initial)]\n",
    "    next_y2_noise = next_y_EM[:,1]#+ noise_y2[3*iteration+len(X_initial):3*(iteration+1)+len(X_initial)]\n",
    "    next_y_tot = np.concatenate([next_y1_noise,next_y2_noise]).reshape(-1,4).transpose()     \n",
    "    print(f'BO iteration #{iteration}:')\n",
    "    print(np.concatenate([next_X_tot,next_y_tot],axis=1))\n",
    "    ed_time = time()\n",
    "    print(f'It takes {np.round((ed_time-st_time)/60,3)} min')\n",
    "    print('')\n",
    "    X_train = np.append(X_train,next_X_tot).reshape(-1,n_MV)\n",
    "    y_train = np.append(y_train,next_y_tot).reshape(-1,2)\n",
    "    ecm_next_X_tot = ecm_interp.predict(next_X_tot)\n",
    "    y_ECM = np.append(y_ECM, ecm_next_X_tot.reshape(-1,2)).reshape(-1,2)\n",
    "    data_save = np.concatenate([X_train,y_train],axis=1)\n",
    "    np.save(f'PrBO_var{n_MV}_iter{iteration}.npy',data_save)\n",
    "ed_ed_time = time()\n",
    "print(f'In total, it takes {np.round((ed_ed_time-st_st_time)/3600,3)} hr')"
   ]
  },
  {
   "cell_type": "code",
   "execution_count": 20,
   "metadata": {
    "scrolled": true
   },
   "outputs": [],
   "source": [
    "data_save = np.concatenate([X_train,y_train],axis=1)\n",
    "np.save(f'PrBO_var{n_MV}.npy',data_save)"
   ]
  },
  {
   "cell_type": "code",
   "execution_count": 21,
   "metadata": {},
   "outputs": [
    {
     "data": {
      "text/plain": [
       "32"
      ]
     },
     "execution_count": 21,
     "metadata": {},
     "output_type": "execute_result"
    }
   ],
   "source": [
    "len(X_train)"
   ]
  },
  {
   "cell_type": "code",
   "execution_count": 22,
   "metadata": {},
   "outputs": [
    {
     "name": "stdout",
     "output_type": "stream",
     "text": [
      "[[0.2    0.4    0.3    3.7    4.05  ]\n",
      " [0.8    0.6    1.     3.7    4.1   ]\n",
      " [1.     1.2    1.     3.8    3.95  ]\n",
      " [1.4    1.4    1.     3.7    4.05  ]\n",
      " [0.4    2.     0.4    3.85   3.95  ]\n",
      " [0.8823 0.888  0.9302 3.7001 4.0983]\n",
      " [1.4471 1.2878 1.     3.7    4.0489]\n",
      " [1.5504 1.5    1.     3.7    4.1   ]\n",
      " [0.4936 0.3007 1.     3.7007 4.0978]\n",
      " [0.8908 0.7092 1.     3.7002 4.0785]\n",
      " [1.4898 1.2786 1.     3.7015 4.0654]\n",
      " [1.6    1.4    1.     3.8    4.1   ]\n",
      " [0.4    0.4    1.     3.85   4.1   ]\n",
      " [1.0679 0.7458 1.     3.7206 3.9706]\n",
      " [1.4889 1.4671 0.998  3.838  4.0192]\n",
      " [1.6015 1.5    1.     3.8478 4.1   ]\n",
      " [0.4    0.4    1.     3.7    4.1   ]\n",
      " [0.8918 0.8378 0.9932 3.7104 4.043 ]\n",
      " [1.2936 1.2973 0.9996 3.7    4.0506]\n",
      " [1.5028 1.5    0.9856 3.7957 4.0957]\n",
      " [0.488  0.3099 0.729  3.7646 4.0858]\n",
      " [1.0171 0.7125 0.9739 3.7    4.0998]\n",
      " [1.3026 1.2912 0.9991 3.7001 4.1   ]\n",
      " [1.6471 1.5001 1.     3.771  4.1   ]\n",
      " [0.9999 0.4    1.     3.7    4.1   ]\n",
      " [0.9995 0.8038 1.     3.7005 4.1   ]\n",
      " [1.1768 1.296  1.     3.7093 4.0271]\n",
      " [1.6993 1.3167 0.9679 3.7    4.0998]\n",
      " [0.4    1.6    0.5    3.85   3.95  ]\n",
      " [1.     0.8    1.     3.7    4.1   ]\n",
      " [1.2134 1.4229 0.9732 3.7585 4.0419]\n",
      " [1.5248 1.3063 0.9742 3.8259 4.1   ]]\n",
      "[[3.63587004 0.86165137]\n",
      " [1.49304886 0.84761826]\n",
      " [0.9669533  0.83026848]\n",
      " [0.78265353 0.81509486]\n",
      " [2.48675645 0.85610637]\n",
      " [1.11401487 0.83703479]\n",
      " [0.81253859 0.81949889]\n",
      " [0.72780112 0.80360845]\n",
      " [2.80007455 0.86023417]\n",
      " [1.27330901 0.84243202]\n",
      " [0.80859396 0.81862042]\n",
      " [0.72964053 0.80632408]\n",
      " [2.39380789 0.85743938]\n",
      " [1.1315059  0.83617862]\n",
      " [0.7653841  0.81353246]\n",
      " [0.70980751 0.8005068 ]\n",
      " [2.39380773 0.85745068]\n",
      " [1.12634703 0.83733896]\n",
      " [0.82372074 0.82011541]\n",
      " [0.73618623 0.80468605]\n",
      " [2.45765606 0.8562534 ]\n",
      " [1.25976942 0.84246929]\n",
      " [0.81182964 0.8176008 ]\n",
      " [0.71158026 0.80117766]\n",
      " [2.0696035  0.85418206]\n",
      " [1.15201311 0.83933034]\n",
      " [0.84614699 0.82223004]\n",
      " [0.78123223 0.81364412]\n",
      " [2.27379508 0.85295226]\n",
      " [1.15603412 0.83947632]\n",
      " [0.8274101  0.81802299]\n",
      " [0.75934583 0.81156903]]\n"
     ]
    }
   ],
   "source": [
    "print(X_train)\n",
    "print(y_train)"
   ]
  },
  {
   "cell_type": "code",
   "execution_count": 23,
   "metadata": {
    "scrolled": false
   },
   "outputs": [
    {
     "name": "stdout",
     "output_type": "stream",
     "text": [
      "Batch 1\n",
      "0.86\n",
      "Cap\n",
      "X_best found:  [0.4936 0.3007 1.     3.7007 4.0978]\n",
      "y_best found:  [168.0044732   86.02341689]\n",
      "\n",
      "Batch 2\n",
      "0.84\n",
      "Cap\n",
      "X_best found:  [1.0171 0.7125 0.9739 3.7    4.0998]\n",
      "y_best found:  [75.58616514 84.24692879]\n",
      "\n",
      "Batch 3\n",
      "0.82\n",
      "Cap\n",
      "X_best found:  [1.2936 1.2973 0.9996 3.7    4.0506]\n",
      "y_best found:  [49.42324433 82.01154096]\n",
      "\n",
      "Batch 4\n",
      "0.8\n",
      "Cap\n",
      "X_best found:  [1.6015 1.5    1.     3.8478 4.1   ]\n",
      "y_best found:  [42.58845035 80.05067986]\n",
      "\n"
     ]
    }
   ],
   "source": [
    "for s in range(len(cap_specs)):\n",
    "    print(f'Batch {s+1}')\n",
    "    cap_spec = cap_specs[s]\n",
    "    print(cap_spec)\n",
    "    \n",
    "    if (y_train[:,1]>=cap_spec).sum()>=1:\n",
    "        print('Cap')\n",
    "        X_best = X_train[y_train[:,1]>=cap_spec][np.argmin(y_train[:,0][y_train[:,1]>=cap_spec])]\n",
    "        y_best = y_train[y_train[:,1]>=cap_spec][np.argmin(y_train[:,0][y_train[:,1]>=cap_spec])]\n",
    "    else:\n",
    "        print('Max')\n",
    "        X_best = X_train[np.argmax(y_train[:,1])]\n",
    "        y_best = y_train[np.argmax(y_train[:,1])]\n",
    "    y_best[0]*=60\n",
    "    y_best[1]*=100\n",
    "    print('X_best found: ',X_best)\n",
    "    print('y_best found: ',y_best)\n",
    "    print('')"
   ]
  },
  {
   "cell_type": "code",
   "execution_count": 25,
   "metadata": {},
   "outputs": [
    {
     "data": {
      "image/png": "[encoded data removed]",
      "text/plain": [
       "<Figure size 400x250 with 1 Axes>"
      ]
     },
     "metadata": {},
     "output_type": "display_data"
    }
   ],
   "source": [
    "import matplotlib.pyplot as plt \n",
    "plt.rcParams['font.family'] = 'Arial'\n",
    "plt.rcParams['font.size'] = 12\n",
    "import numpy as np\n",
    "X_train = np.load('PrBO_var5.npy')[:,:5]\n",
    "y_train = np.load('PrBO_var5.npy')[:,-2:]\n",
    "n_initial = 4\n",
    "plt.rcParams['font.size'] = 12\n",
    "plt.figure(1,figsize=(4,2.5))\n",
    "plt.grid(zorder=0)\n",
    "\n",
    "plt.scatter(y_train[:n_initial,0]*60,y_train[:n_initial,1]*100,zorder=5,c='r',s=15,marker='x',label='Initial data')\n",
    "plt.scatter(y_train[n_initial:,0]*60,y_train[n_initial:,1]*100,zorder=5,c='b',s=15,label='BO')\n",
    "# plt.xlim(30,250)\n",
    "# plt.ylim(0.6,0.83)\n",
    "plt.xlabel('Charging time [min]')\n",
    "plt.ylabel('Capacity retention [%]')\n",
    "plt.legend()\n",
    "plt.show()"
   ]
  },
  {
   "cell_type": "code",
   "execution_count": null,
   "metadata": {},
   "outputs": [],
   "source": []
  },
  {
   "cell_type": "code",
   "execution_count": null,
   "metadata": {},
   "outputs": [],
   "source": []
  },
  {
   "cell_type": "code",
   "execution_count": null,
   "metadata": {},
   "outputs": [],
   "source": []
  }
 ],
 "metadata": {
  "kernelspec": {
   "display_name": "pybamm_24_9",
   "language": "python",
   "name": "pybamm_24_9"
  },
  "language_info": {
   "codemirror_mode": {
    "name": "ipython",
    "version": 3
   },
   "file_extension": ".py",
   "mimetype": "text/x-python",
   "name": "python",
   "nbconvert_exporter": "python",
   "pygments_lexer": "ipython3",
   "version": "3.11.10"
  }
 },
 "nbformat": 4,
 "nbformat_minor": 4
}
