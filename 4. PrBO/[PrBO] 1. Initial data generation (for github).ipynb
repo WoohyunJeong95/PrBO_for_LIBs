{
 "cells": [
  {
   "cell_type": "code",
   "execution_count": 1,
   "metadata": {},
   "outputs": [
    {
     "name": "stdout",
     "output_type": "stream",
     "text": [
      "24.9.0\n"
     ]
    }
   ],
   "source": [
    "import numpy as np\n",
    "import pandas as pd\n",
    "import matplotlib.pyplot as plt\n",
    "from scipy.stats import norm\n",
    "import pickle\n",
    "\n",
    "import pybamm\n",
    "from datetime import datetime, timedelta\n",
    "from time import time\n",
    "import mscc_aging_test_DOD100 as worker\n",
    "import multiprocessing as mp\n",
    "from scipy.optimize import minimize\n",
    "from joblib import Parallel, delayed\n",
    "\n",
    "from LIB_GP import*\n",
    "from LIB_acq_fun_min import*\n",
    "\n",
    "print(pybamm.__version__)\n",
    "plt.rcParams['font.family'] = 'Arial'\n",
    "plt.rcParams['font.size'] = 12"
   ]
  },
  {
   "cell_type": "code",
   "execution_count": 2,
   "metadata": {},
   "outputs": [],
   "source": [
    "import warnings\n",
    "from sklearn.exceptions import ConvergenceWarning\n",
    "warnings.simplefilter(\"ignore\", ConvergenceWarning)"
   ]
  },
  {
   "cell_type": "code",
   "execution_count": 3,
   "metadata": {},
   "outputs": [],
   "source": [
    "set_T_C = 25 \n",
    "n_MV = 5\n",
    "# cap_spec = 0.80 # capacity retention spec"
   ]
  },
  {
   "cell_type": "code",
   "execution_count": 4,
   "metadata": {},
   "outputs": [],
   "source": [
    "n_opt_start = 100"
   ]
  },
  {
   "cell_type": "markdown",
   "metadata": {},
   "source": [
    "### 1. Initial data generation"
   ]
  },
  {
   "cell_type": "code",
   "execution_count": 5,
   "metadata": {},
   "outputs": [],
   "source": [
    "ecm_data = np.load('ecm_data_var5.npy')\n",
    "ecm_data_X = ecm_data[:,0:n_MV]\n",
    "ecm_data_y = ecm_data[:,n_MV:]"
   ]
  },
  {
   "cell_type": "code",
   "execution_count": 6,
   "metadata": {},
   "outputs": [
    {
     "name": "stdout",
     "output_type": "stream",
     "text": [
      "[[0.2  0.2  0.2  3.7  3.95]\n",
      " [0.2  0.2  0.2  3.7  4.  ]\n",
      " [0.2  0.2  0.2  3.7  4.05]\n",
      " ...\n",
      " [2.   2.   1.   3.85 4.  ]\n",
      " [2.   2.   1.   3.85 4.05]\n",
      " [2.   2.   1.   3.85 4.1 ]]\n",
      "[[4.99978431 0.86508649]\n",
      " [4.99978436 0.86508665]\n",
      " [4.99978443 0.86508783]\n",
      " ...\n",
      " [0.66799437 0.72775597]\n",
      " [0.64014206 0.72045853]\n",
      " [0.61476164 0.71379608]]\n"
     ]
    }
   ],
   "source": [
    "print(ecm_data_X)\n",
    "print(ecm_data_y)"
   ]
  },
  {
   "cell_type": "code",
   "execution_count": 7,
   "metadata": {},
   "outputs": [
    {
     "data": {
      "text/plain": [
       "14400"
      ]
     },
     "execution_count": 7,
     "metadata": {},
     "output_type": "execute_result"
    }
   ],
   "source": [
    "len(ecm_data)"
   ]
  },
  {
   "cell_type": "code",
   "execution_count": 8,
   "metadata": {},
   "outputs": [
    {
     "name": "stdout",
     "output_type": "stream",
     "text": [
      "[[3.83060566 0.82566393]]\n"
     ]
    }
   ],
   "source": [
    "import joblib\n",
    "\n",
    "# 저장된 모델 불러오기\n",
    "ecm_interp_knn = joblib.load('ecm_interp_knn.pkl')\n",
    "\n",
    "# 불러온 모델로 예측\n",
    "y_pred = ecm_interp_knn.predict(np.array([2.0,0.2,2.0,3.7,4.05]).reshape(-1,n_MV))\n",
    "print(y_pred)"
   ]
  },
  {
   "cell_type": "code",
   "execution_count": 9,
   "metadata": {},
   "outputs": [],
   "source": [
    "spec_candi = [0.86,0.84,0.82,0.80]"
   ]
  },
  {
   "cell_type": "code",
   "execution_count": 10,
   "metadata": {},
   "outputs": [
    {
     "name": "stdout",
     "output_type": "stream",
     "text": [
      "0.86\n",
      "0.84\n",
      "0.82\n",
      "0.8\n"
     ]
    }
   ],
   "source": [
    "X_best = []\n",
    "for i,spec in enumerate(spec_candi):\n",
    "    print(spec)\n",
    "    opt_org = np.argmin(ecm_data_y[:,0][ecm_data_y[:,1]>=spec])\n",
    "    X_best_temp = ecm_data_X[ecm_data_y[:,1]>=spec][opt_org]\n",
    "    \n",
    "    X_best.append(X_best_temp)"
   ]
  },
  {
   "cell_type": "code",
   "execution_count": 11,
   "metadata": {},
   "outputs": [
    {
     "data": {
      "text/plain": [
       "array([[0.2 , 0.4 , 0.3 , 3.7 , 4.05],\n",
       "       [0.8 , 0.6 , 1.  , 3.7 , 4.1 ],\n",
       "       [1.  , 1.2 , 1.  , 3.8 , 3.95],\n",
       "       [1.4 , 1.4 , 1.  , 3.7 , 4.05]])"
      ]
     },
     "execution_count": 11,
     "metadata": {},
     "output_type": "execute_result"
    }
   ],
   "source": [
    "X_best = np.array(X_best).reshape(-1,5)\n",
    "X_best"
   ]
  },
  {
   "cell_type": "code",
   "execution_count": 12,
   "metadata": {},
   "outputs": [
    {
     "data": {
      "text/plain": [
       "array([[3.64567067, 0.86012611],\n",
       "       [1.49729116, 0.84020466],\n",
       "       [0.97002286, 0.82002044],\n",
       "       [0.78542323, 0.80037281]])"
      ]
     },
     "execution_count": 12,
     "metadata": {},
     "output_type": "execute_result"
    }
   ],
   "source": [
    "ecm_interp_knn.predict(X_best)"
   ]
  },
  {
   "cell_type": "code",
   "execution_count": null,
   "metadata": {},
   "outputs": [],
   "source": []
  },
  {
   "cell_type": "code",
   "execution_count": 13,
   "metadata": {},
   "outputs": [],
   "source": [
    "X_initial = np.array(X_best).flatten().reshape(-1,5)"
   ]
  },
  {
   "cell_type": "code",
   "execution_count": 14,
   "metadata": {},
   "outputs": [
    {
     "data": {
      "text/plain": [
       "array([[0.2 , 0.4 , 0.3 , 3.7 , 4.05],\n",
       "       [0.8 , 0.6 , 1.  , 3.7 , 4.1 ],\n",
       "       [1.  , 1.2 , 1.  , 3.8 , 3.95],\n",
       "       [1.4 , 1.4 , 1.  , 3.7 , 4.05]])"
      ]
     },
     "execution_count": 14,
     "metadata": {},
     "output_type": "execute_result"
    }
   ],
   "source": [
    "X_initial"
   ]
  },
  {
   "cell_type": "code",
   "execution_count": 15,
   "metadata": {},
   "outputs": [],
   "source": [
    "n_initial = X_initial.shape[0]"
   ]
  },
  {
   "cell_type": "code",
   "execution_count": 16,
   "metadata": {},
   "outputs": [
    {
     "name": "stdout",
     "output_type": "stream",
     "text": [
      "4\n",
      "Time 9.6085 minutes\n"
     ]
    }
   ],
   "source": [
    "num_core = mp.cpu_count()\n",
    "num_core = 4\n",
    "print(num_core)\n",
    "p = mp.Pool(processes = num_core)\n",
    "st_time = time()\n",
    "initial_data = p.starmap(worker.aging_test_results,X_initial)  # x_exp, y_exp, avg_temp\n",
    "ed_time = time()\n",
    "print('Time',np.round((ed_time-st_time),2)/60, 'minutes')\n",
    "p.close()\n",
    "p.join()"
   ]
  },
  {
   "cell_type": "code",
   "execution_count": 17,
   "metadata": {},
   "outputs": [
    {
     "data": {
      "text/plain": [
       "[[3.6358700431704136, 0.8616513715236432],\n",
       " [1.4930488550570296, 0.8476182640206333],\n",
       " [0.9669532970602539, 0.8302684806988],\n",
       " [0.7826535327190598, 0.8150948601186301]]"
      ]
     },
     "execution_count": 17,
     "metadata": {},
     "output_type": "execute_result"
    }
   ],
   "source": [
    "initial_data"
   ]
  },
  {
   "cell_type": "code",
   "execution_count": 18,
   "metadata": {},
   "outputs": [],
   "source": [
    "initial_data = np.array(initial_data)"
   ]
  },
  {
   "cell_type": "code",
   "execution_count": 19,
   "metadata": {},
   "outputs": [],
   "source": [
    "data_save = np.concatenate([X_initial,initial_data],axis=1)"
   ]
  },
  {
   "cell_type": "code",
   "execution_count": 20,
   "metadata": {},
   "outputs": [],
   "source": [
    "np.save('PrBO_initial_data.npy',data_save)"
   ]
  },
  {
   "cell_type": "code",
   "execution_count": 21,
   "metadata": {},
   "outputs": [
    {
     "data": {
      "text/plain": [
       "array([[0.2       , 0.4       , 0.3       , 3.7       , 4.05      ,\n",
       "        3.63587004, 0.86165137],\n",
       "       [0.8       , 0.6       , 1.        , 3.7       , 4.1       ,\n",
       "        1.49304886, 0.84761826],\n",
       "       [1.        , 1.2       , 1.        , 3.8       , 3.95      ,\n",
       "        0.9669533 , 0.83026848],\n",
       "       [1.4       , 1.4       , 1.        , 3.7       , 4.05      ,\n",
       "        0.78265353, 0.81509486]])"
      ]
     },
     "execution_count": 21,
     "metadata": {},
     "output_type": "execute_result"
    }
   ],
   "source": [
    "np.load('PrBO_initial_data.npy')"
   ]
  },
  {
   "cell_type": "code",
   "execution_count": 22,
   "metadata": {},
   "outputs": [
    {
     "data": {
      "text/plain": [
       "array([218.15220259,  89.5829313 ,  58.01719782,  46.95921196])"
      ]
     },
     "execution_count": 22,
     "metadata": {},
     "output_type": "execute_result"
    }
   ],
   "source": [
    "data_save[:,-2]*60"
   ]
  },
  {
   "cell_type": "code",
   "execution_count": 23,
   "metadata": {},
   "outputs": [],
   "source": [
    "import numpy as np\n",
    "import pandas as pd\n",
    "import joblib\n",
    "# 저장된 모델 불러오기\n",
    "ecm_interp_knn = joblib.load('ecm_interp_knn.pkl')\n",
    "data_save = np.load('PrBO_initial_data.npy')\n",
    "ecm_initial = ecm_interp_knn.predict(data_save[:,:5])\n"
   ]
  },
  {
   "cell_type": "code",
   "execution_count": 24,
   "metadata": {},
   "outputs": [
    {
     "data": {
      "text/plain": [
       "array([[0.2       , 0.4       , 0.3       , 3.7       , 4.05      ,\n",
       "        3.63587004, 0.86165137],\n",
       "       [0.8       , 0.6       , 1.        , 3.7       , 4.1       ,\n",
       "        1.49304886, 0.84761826],\n",
       "       [1.        , 1.2       , 1.        , 3.8       , 3.95      ,\n",
       "        0.9669533 , 0.83026848],\n",
       "       [1.4       , 1.4       , 1.        , 3.7       , 4.05      ,\n",
       "        0.78265353, 0.81509486]])"
      ]
     },
     "execution_count": 24,
     "metadata": {},
     "output_type": "execute_result"
    }
   ],
   "source": [
    "data_save"
   ]
  },
  {
   "cell_type": "code",
   "execution_count": 25,
   "metadata": {},
   "outputs": [],
   "source": [
    "data_concat = np.concatenate([data_save[:,:5],ecm_initial,data_save[:,5:]],axis=1)"
   ]
  },
  {
   "cell_type": "code",
   "execution_count": 26,
   "metadata": {},
   "outputs": [
    {
     "data": {
      "text/plain": [
       "array([[0.2       , 0.4       , 0.3       , 3.7       , 4.05      ,\n",
       "        3.64567067, 0.86012611, 3.63587004, 0.86165137],\n",
       "       [0.8       , 0.6       , 1.        , 3.7       , 4.1       ,\n",
       "        1.49729116, 0.84020466, 1.49304886, 0.84761826],\n",
       "       [1.        , 1.2       , 1.        , 3.8       , 3.95      ,\n",
       "        0.97002286, 0.82002044, 0.9669533 , 0.83026848],\n",
       "       [1.4       , 1.4       , 1.        , 3.7       , 4.05      ,\n",
       "        0.78542323, 0.80037281, 0.78265353, 0.81509486]])"
      ]
     },
     "execution_count": 26,
     "metadata": {},
     "output_type": "execute_result"
    }
   ],
   "source": [
    "data_concat"
   ]
  },
  {
   "cell_type": "code",
   "execution_count": 27,
   "metadata": {},
   "outputs": [
    {
     "data": {
      "text/html": [
       "<div>\n",
       "<style scoped>\n",
       "    .dataframe tbody tr th:only-of-type {\n",
       "        vertical-align: middle;\n",
       "    }\n",
       "\n",
       "    .dataframe tbody tr th {\n",
       "        vertical-align: top;\n",
       "    }\n",
       "\n",
       "    .dataframe thead th {\n",
       "        text-align: right;\n",
       "    }\n",
       "</style>\n",
       "<table border=\"1\" class=\"dataframe\">\n",
       "  <thead>\n",
       "    <tr style=\"text-align: right;\">\n",
       "      <th></th>\n",
       "      <th>I1</th>\n",
       "      <th>I2</th>\n",
       "      <th>I3</th>\n",
       "      <th>V1</th>\n",
       "      <th>V2</th>\n",
       "      <th>ECM tc [min]</th>\n",
       "      <th>ECM Cr [%]</th>\n",
       "      <th>EM tc [min]</th>\n",
       "      <th>EM Cr [%]</th>\n",
       "    </tr>\n",
       "  </thead>\n",
       "  <tbody>\n",
       "    <tr>\n",
       "      <th>0</th>\n",
       "      <td>0.2</td>\n",
       "      <td>0.4</td>\n",
       "      <td>0.3</td>\n",
       "      <td>3.7</td>\n",
       "      <td>4.05</td>\n",
       "      <td>218.740240</td>\n",
       "      <td>86.012611</td>\n",
       "      <td>218.152203</td>\n",
       "      <td>86.165137</td>\n",
       "    </tr>\n",
       "    <tr>\n",
       "      <th>1</th>\n",
       "      <td>0.8</td>\n",
       "      <td>0.6</td>\n",
       "      <td>1.0</td>\n",
       "      <td>3.7</td>\n",
       "      <td>4.10</td>\n",
       "      <td>89.837470</td>\n",
       "      <td>84.020466</td>\n",
       "      <td>89.582931</td>\n",
       "      <td>84.761826</td>\n",
       "    </tr>\n",
       "    <tr>\n",
       "      <th>2</th>\n",
       "      <td>1.0</td>\n",
       "      <td>1.2</td>\n",
       "      <td>1.0</td>\n",
       "      <td>3.8</td>\n",
       "      <td>3.95</td>\n",
       "      <td>58.201372</td>\n",
       "      <td>82.002044</td>\n",
       "      <td>58.017198</td>\n",
       "      <td>83.026848</td>\n",
       "    </tr>\n",
       "    <tr>\n",
       "      <th>3</th>\n",
       "      <td>1.4</td>\n",
       "      <td>1.4</td>\n",
       "      <td>1.0</td>\n",
       "      <td>3.7</td>\n",
       "      <td>4.05</td>\n",
       "      <td>47.125394</td>\n",
       "      <td>80.037281</td>\n",
       "      <td>46.959212</td>\n",
       "      <td>81.509486</td>\n",
       "    </tr>\n",
       "  </tbody>\n",
       "</table>\n",
       "</div>"
      ],
      "text/plain": [
       "    I1   I2   I3   V1    V2  ECM tc [min]  ECM Cr [%]  EM tc [min]  EM Cr [%]\n",
       "0  0.2  0.4  0.3  3.7  4.05    218.740240   86.012611   218.152203  86.165137\n",
       "1  0.8  0.6  1.0  3.7  4.10     89.837470   84.020466    89.582931  84.761826\n",
       "2  1.0  1.2  1.0  3.8  3.95     58.201372   82.002044    58.017198  83.026848\n",
       "3  1.4  1.4  1.0  3.7  4.05     47.125394   80.037281    46.959212  81.509486"
      ]
     },
     "execution_count": 27,
     "metadata": {},
     "output_type": "execute_result"
    }
   ],
   "source": [
    "df_save = pd.DataFrame(data_concat)\n",
    "df_save.columns= ['I1','I2','I3','V1','V2','ECM tc [min]','ECM Cr [%]', 'EM tc [min]','EM Cr [%]']\n",
    "df_save['ECM tc [min]'] = df_save['ECM tc [min]']*60\n",
    "df_save['ECM Cr [%]'] = df_save['ECM Cr [%]']*100\n",
    "\n",
    "df_save['EM tc [min]'] = df_save['EM tc [min]']*60\n",
    "df_save['EM Cr [%]'] = df_save['EM Cr [%]']*100\n",
    "\n",
    "df_save.to_csv('PrBO_initial_samples.csv',index=False)\n",
    "df_save"
   ]
  },
  {
   "cell_type": "code",
   "execution_count": 28,
   "metadata": {},
   "outputs": [
    {
     "data": {
      "text/plain": [
       "array([[0.2       , 0.4       , 0.3       , 3.7       , 4.05      ,\n",
       "        3.63587004, 0.86165137],\n",
       "       [0.8       , 0.6       , 1.        , 3.7       , 4.1       ,\n",
       "        1.49304886, 0.84761826],\n",
       "       [1.        , 1.2       , 1.        , 3.8       , 3.95      ,\n",
       "        0.9669533 , 0.83026848],\n",
       "       [1.4       , 1.4       , 1.        , 3.7       , 4.05      ,\n",
       "        0.78265353, 0.81509486]])"
      ]
     },
     "execution_count": 28,
     "metadata": {},
     "output_type": "execute_result"
    }
   ],
   "source": [
    "np.load('PrBO_initial_data.npy')"
   ]
  },
  {
   "cell_type": "code",
   "execution_count": null,
   "metadata": {},
   "outputs": [],
   "source": []
  }
 ],
 "metadata": {
  "kernelspec": {
   "display_name": "pybamm_24_9",
   "language": "python",
   "name": "pybamm_24_9"
  },
  "language_info": {
   "codemirror_mode": {
    "name": "ipython",
    "version": 3
   },
   "file_extension": ".py",
   "mimetype": "text/x-python",
   "name": "python",
   "nbconvert_exporter": "python",
   "pygments_lexer": "ipython3",
   "version": "3.11.10"
  }
 },
 "nbformat": 4,
 "nbformat_minor": 4
}
