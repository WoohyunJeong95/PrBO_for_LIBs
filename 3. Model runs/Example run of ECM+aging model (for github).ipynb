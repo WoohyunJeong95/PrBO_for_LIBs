{
 "cells": [
  {
   "cell_type": "code",
   "execution_count": 1,
   "metadata": {},
   "outputs": [
    {
     "name": "stdout",
     "output_type": "stream",
     "text": [
      "24.9.0\n"
     ]
    }
   ],
   "source": [
    "import pandas as pd\n",
    "import matplotlib.pyplot as plt\n",
    "import numpy as np\n",
    "import pybamm\n",
    "from time import time\n",
    "from datetime import datetime, timedelta\n",
    "from tqdm import tqdm\n",
    "\n",
    "from scipy import interpolate\n",
    "import multiprocessing as mp\n",
    "import pickle\n",
    "import os\n",
    "\n",
    "\n",
    "print(pybamm.__version__)\n",
    "plt.rcParams['font.family'] = 'Arial'\n",
    "plt.rcParams['font.size'] = 15"
   ]
  },
  {
   "cell_type": "code",
   "execution_count": 2,
   "metadata": {},
   "outputs": [],
   "source": [
    "I1,I2,I3,V1,V2 = [0.20,0.40,0.30,3.70,4.05]"
   ]
  },
  {
   "cell_type": "code",
   "execution_count": 3,
   "metadata": {},
   "outputs": [],
   "source": [
    "temperature_C = 25\n",
    "n_days = 100\n",
    "one_day_time = 24\n",
    "R_const = 8.314\n",
    "dch_per_one_day = 10\n",
    "\n",
    "# Initial capacity\n",
    "capa_0 = 4.910019471679001"
   ]
  },
  {
   "cell_type": "code",
   "execution_count": 4,
   "metadata": {},
   "outputs": [],
   "source": [
    "with open('ECM_cal_B.pkl', 'rb') as f:\n",
    "    B_cal = pickle.load(f)\n",
    "with open('ECM_cal_Ea.pkl', 'rb') as f:\n",
    "    Ea_cal = pickle.load(f)\n",
    "with open('ECM_cal_z.pkl', 'rb') as f:\n",
    "    z_cal = pickle.load(f)\n",
    "\n",
    "with open('ECM_cyc_B.pkl', 'rb') as f:\n",
    "    B_cyc = pickle.load(f)\n",
    "with open('ECM_cyc_Ea.pkl', 'rb') as f:\n",
    "    Ea_cyc = pickle.load(f)\n",
    "with open('ECM_cyc_z.pkl', 'rb') as f:\n",
    "    z_cyc = pickle.load(f)\n",
    " "
   ]
  },
  {
   "cell_type": "code",
   "execution_count": 5,
   "metadata": {},
   "outputs": [],
   "source": [
    "R_const = 8.314\n",
    "def dQdt_cal(SOC,T,Qcal):\n",
    "    B = B_cal(SOC)\n",
    "    exp_term = np.exp(-Ea_cal/(R_const*T))\n",
    "    dQdt = z_cal*B*exp_term*(Qcal/(B*exp_term))**(1-1/z_cal)\n",
    "    return dQdt\n",
    "\n",
    "def dQdt_cyc(I,T,Qcyc):\n",
    "    c_rate = abs(I)/5\n",
    "    B = B_cyc(c_rate)\n",
    "    exp_term = np.exp(Ea_cyc/(R_const*T))\n",
    "    dQdt = abs(I)/3600*z_cyc*B*exp_term*(Qcyc/(B*exp_term))**(1-1/z_cyc)\n",
    "    return dQdt\n",
    "\n",
    "model = pybamm.equivalent_circuit.Thevenin(options={\"operating mode\":\"current\",\"number of rc elements\":0})\n",
    "param = model.default_parameter_values\n",
    "path = os.getcwd()\n",
    "ocv_data = pybamm.parameters.process_1D_data(\"ecm_ocv.csv\", path=path)\n",
    "r0_data = pybamm.parameters.process_3D_data_csv(\"ecm_r0.csv\", path=path)\n",
    "def r0(T_cell, current, soc):\n",
    "    name, (x, y) = r0_data\n",
    "    return pybamm.Interpolant(x, y, [T_cell, current, soc], name)\n",
    "param.update(\n",
    "{   'R0 [Ohm]': r0,}\n",
    ")\n",
    "param.update(\n",
    "    {   \"Upper voltage cut-off [V]\":4.2,\n",
    "        \"Cell-jig heat transfer coefficient [W/K]\": 0.1601733,\n",
    "        \"Cell thermal mass [J/K]\": 173.6341749,\n",
    "        \"Jig thermal mass [J/K]\": 1e20,\n",
    "        \"Jig-air heat transfer coefficient [W/K]\": 0,\n",
    "        \"Cell capacity [A.h]\": 5,\n",
    "        \"Nominal cell capacity [A.h]\": 5,\n",
    "        \"Initial SoC\": 0.001,\n",
    "        \"Lower voltage cut-off [V]\": 3.0,\n",
    "        \"Open-circuit voltage [V]\": ocv_data,\n",
    "        \"Entropic change [V/K]\": 0,\n",
    "        \"Initial temperature [K]\": temperature_C + 273.15,\n",
    "        \"Ambient temperature [K]\": temperature_C + 273.15,\n",
    "        \"Current function [A]\": 0,\n",
    "    }\n",
    ")"
   ]
  },
  {
   "cell_type": "code",
   "execution_count": 6,
   "metadata": {},
   "outputs": [],
   "source": [
    "st_time = time()\n",
    "s = pybamm.step.string\n",
    "\n",
    "n_exp_per_day_arr = []\n",
    "# Multi-simulation ########################################################################\n",
    "solver = pybamm.CasadiSolver(mode='safe',return_solution_if_failed_early=True)\n",
    "for c in range(2):\n",
    "    st_time_1 = datetime(2024, 1, 1, 0, 0) + timedelta(hours=c*one_day_time)\n",
    "\n",
    "    experiment1  = pybamm.Experiment([\n",
    "            (s(f\"Charge at {I1}C until {V1}V\", start_time=st_time_1, period='5 minutes'),\n",
    "             s(f\"Charge at {I2}C until {V2}V\", period='5 minutes'),\n",
    "             s(f\"Charge at {I3}C until {4.2}V\", period='5 minutes'),\n",
    "             s(\"Discharge at 0.1C until 3.0V\", period='5 minutes'),\n",
    "            )])\n",
    "    sim = pybamm.Simulation(model, parameter_values=param, experiment=experiment1,solver=solver)\n",
    "    if c==0:\n",
    "        solution = sim.solve()\n",
    "    else:\n",
    "        solution = sim.solve(starting_solution=solution)\n",
    "\n",
    "\n",
    "    dch_time_exp1 = solution.cycles[-1].steps[-1]['Time [h]'].entries[-1]-solution.cycles[-1].steps[-1]['Time [h]'].entries[0]\n",
    "\n",
    "    if dch_time_exp1>=dch_per_one_day:\n",
    "        experiment2  = pybamm.Experiment([\n",
    "            (   s(\"Rest for 8 hours\",start_time = st_time_2, period='10 minutes'))])\n",
    "        sim = pybamm.Simulation(model, parameter_values=param, experiment=experiment2,solver=solver)\n",
    "        solution = sim.solve(starting_solution=solution) \n",
    "        n_exp_day = 2\n",
    "        n_exp_per_day_arr.append(n_exp_day)\n",
    "        \n",
    "\n",
    "    else:\n",
    "        dch_time_left = dch_per_one_day-dch_time_exp1\n",
    "        experiment2  = pybamm.Experiment([\n",
    "                (s(f\"Charge at {I1}C until {V1}V\", period='5 minutes'),\n",
    "                 s(f\"Charge at {I2}C until {V2}V\", period='5 minutes'),\n",
    "                 s(f\"Charge at {I3}C until {4.2}V\", period='5 minutes'),\n",
    "                 s(f\"Discharge at 0.1C for {dch_time_left} hours or until 3.0V\", period='5 minutes')\n",
    "                )])\n",
    "        sim = pybamm.Simulation(model, parameter_values=param, experiment=experiment2,solver=solver)\n",
    "        solution = sim.solve(starting_solution=solution)    \n",
    "        dch_time_exp2 = solution.cycles[-1].steps[-1]['Time [h]'].entries[-1]-solution.cycles[-1].steps[-1]['Time [h]'].entries[0]\n",
    "    \n",
    "        st_time_2_hr = solution.cycles[-1].steps[-1]['Time [h]'].entries[-1]-solution.cycles[-2]['Time [h]'].entries[0]\n",
    "        st_time_2_h = int(np.floor(st_time_2_hr))\n",
    "        st_time_2_m = int(np.floor((st_time_2_hr-st_time_2_h)*60))\n",
    "        st_time_2_s = int(np.ceil(((st_time_2_hr-st_time_2_h)*60-st_time_2_m)*60))\n",
    "        if st_time_2_s==60:\n",
    "            st_time_2_m=st_time_2_m+1\n",
    "            st_time_2_s=0\n",
    "        if st_time_2_m == 60:\n",
    "            st_time_2_h = st_time_2_h+1\n",
    "            st_time_2_m= 0\n",
    "        st_time_2 = datetime(2024, 1, 1, st_time_2_h, st_time_2_m,st_time_2_s) + timedelta(hours=c*one_day_time)        \n",
    "        rest_time = 24-(st_time_2_h+st_time_2_m/60+st_time_2_s/3600)      \n",
    "        if abs(dch_time_exp1+dch_time_exp2-dch_per_one_day)<1e-5:\n",
    "            experiment3  = pybamm.Experiment([\n",
    "                (   s(f\"Rest for {rest_time} hours\",start_time = st_time_2, period='10 minutes'))])\n",
    "            sim = pybamm.Simulation(model, parameter_values=param, experiment=experiment3,solver=solver)\n",
    "            solution = sim.solve(starting_solution=solution) \n",
    "            n_exp_day = 3\n",
    "            n_exp_per_day_arr.append(n_exp_day)\n",
    "##########################################################################################"
   ]
  },
  {
   "cell_type": "code",
   "execution_count": 7,
   "metadata": {},
   "outputs": [],
   "source": [
    "start_idx = n_exp_per_day_arr[0]\n",
    "sol_time = solution.cycles[start_idx]['Time [h]'].entries\n",
    "sol_current = solution.cycles[start_idx]['Current [A]'].entries\n",
    "sol_temp = solution.cycles[start_idx]['Cell temperature [K]'].entries\n",
    "sol_SOC = solution.cycles[start_idx]['SoC'].entries\n",
    "\n",
    "for s in range(1,n_exp_per_day_arr[1]): # 2nd day data concatenate\n",
    "    sol_time = np.concatenate([sol_time,solution.cycles[start_idx+s]['Time [h]'].entries])\n",
    "    sol_current = np.concatenate([sol_current,solution.cycles[start_idx+s]['Current [A]'].entries])    \n",
    "    sol_temp = np.concatenate([sol_temp,solution.cycles[start_idx+s]['Cell temperature [K]'].entries])\n",
    "    sol_SOC = np.concatenate([sol_SOC,solution.cycles[start_idx+s]['SoC'].entries])\n",
    "    \n",
    "sol_time = sol_time-solution.cycles[start_idx]['Time [h]'].entries[0]"
   ]
  },
  {
   "cell_type": "code",
   "execution_count": 8,
   "metadata": {},
   "outputs": [
    {
     "name": "stdout",
     "output_type": "stream",
     "text": [
      "2.460442304611206 seconds\n"
     ]
    }
   ],
   "source": [
    "# Cycling aging & Calendar aging\n",
    "Q_loss_cyc_corr = np.full(n_days+ 1, 1e-10)\n",
    "time_h = sol_time\n",
    "Temp = sol_temp\n",
    "current_arr = sol_current\n",
    "delta_time_s = np.diff(time_h) * 3600\n",
    "\n",
    "Q_loss_cal = np.full(n_days + 1, 1e-10)\n",
    "sol_time_diff_s = np.diff(sol_time) * 3600\n",
    "\n",
    "for c in range(n_days):\n",
    "    Q_loss_cyc_temp = np.full(len(time_h), Q_loss_cyc_corr[c])\n",
    "    Q_loss_cal_temp = np.full(len(sol_time), Q_loss_cal[c])\n",
    "    for t in range(len(time_h) - 1):\n",
    "        dQdt = dQdt_cyc(current_arr[t], Temp[t], Q_loss_cyc_temp[t])\n",
    "        Q_loss_cyc_temp[t + 1] = Q_loss_cyc_temp[t] + dQdt * delta_time_s[t]\n",
    "        dQdt = dQdt_cal(sol_SOC[t], sol_temp[t], Q_loss_cal_temp[t]) \n",
    "        Q_loss_cal_temp[t + 1] = (Q_loss_cal_temp[t] + dQdt * sol_time_diff_s[t])\n",
    "\n",
    "    Q_loss_cyc_corr[c + 1] = Q_loss_cyc_temp[-1]\n",
    "    Q_loss_cal[c + 1] = (Q_loss_cal_temp[-1])\n",
    "\n",
    "Q_loss_tot = Q_loss_cyc_corr + Q_loss_cal\n",
    "cap_ret = (capa_0 - Q_loss_tot) / capa_0\n",
    "\n",
    "ed_time = time()\n",
    "print(ed_time-st_time, 'seconds')"
   ]
  },
  {
   "cell_type": "code",
   "execution_count": 9,
   "metadata": {},
   "outputs": [
    {
     "name": "stdout",
     "output_type": "stream",
     "text": [
      "Charging time [min]:  218.74\n",
      "Capacity retention [%]:  86.01\n"
     ]
    }
   ],
   "source": [
    "start_idx = n_exp_per_day_arr[0]\n",
    "ch_time = solution.cycles[start_idx].steps[-1]['Time [h]'].entries[0]-solution.cycles[start_idx]['Time [h]'].entries[0]\n",
    "# print(ch_time)\n",
    "for s in range(n_exp_per_day_arr[1]-2):\n",
    "    ch_time+=solution.cycles[start_idx+1].steps[-1]['Time [h]'].entries[0]-solution.cycles[start_idx+1]['Time [h]'].entries[0]\n",
    "#     print(solution.cycles[start_idx+1].steps[-1]['Time [h]'].entries[0]-solution.cycles[start_idx+1]['Time [h]'].entries[0])\n",
    "\n",
    "print('Charging time [min]: ',np.round(ch_time*60,2))\n",
    "print('Capacity retention [%]: ', np.round(cap_ret[-1]*100,2))"
   ]
  },
  {
   "cell_type": "code",
   "execution_count": 17,
   "metadata": {},
   "outputs": [
    {
     "name": "stdout",
     "output_type": "stream",
     "text": [
      "218.74024008575844 86.0126111509614\n"
     ]
    }
   ],
   "source": [
    "import joblib\n",
    "\n",
    "# 저장된 모델 불러오기\n",
    "ecm_interp_knn = joblib.load('ecm_interp_knn.pkl')\n",
    "\n",
    "# 불러온 모델로 예측\n",
    "y_pred = ecm_interp_knn.predict(np.array([I1,I2,I3,V1,V2]).reshape(-1,5))\n",
    "print(y_pred[0][0]*60,y_pred[0][1]*100)"
   ]
  },
  {
   "cell_type": "code",
   "execution_count": null,
   "metadata": {},
   "outputs": [],
   "source": []
  }
 ],
 "metadata": {
  "kernelspec": {
   "display_name": "pybamm_24_9",
   "language": "python",
   "name": "pybamm_24_9"
  },
  "language_info": {
   "codemirror_mode": {
    "name": "ipython",
    "version": 3
   },
   "file_extension": ".py",
   "mimetype": "text/x-python",
   "name": "python",
   "nbconvert_exporter": "python",
   "pygments_lexer": "ipython3",
   "version": "3.11.10"
  }
 },
 "nbformat": 4,
 "nbformat_minor": 4
}
