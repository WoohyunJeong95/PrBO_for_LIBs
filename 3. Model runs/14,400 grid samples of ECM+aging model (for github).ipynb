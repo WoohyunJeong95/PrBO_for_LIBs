{
 "cells": [
  {
   "cell_type": "code",
   "execution_count": 1,
   "metadata": {},
   "outputs": [
    {
     "name": "stdout",
     "output_type": "stream",
     "text": [
      "24.9.0\n"
     ]
    }
   ],
   "source": [
    "import pandas as pd\n",
    "import matplotlib.pyplot as plt\n",
    "import numpy as np\n",
    "import pybamm\n",
    "from time import time\n",
    "import pickle\n",
    "from datetime import datetime, timedelta\n",
    "from tqdm import tqdm\n",
    "\n",
    "from sklearn.metrics import mean_squared_error\n",
    "from scipy import interpolate\n",
    "import os\n",
    "\n",
    "import mscc_ecm_aging_test_DOD100 as worker\n",
    "import multiprocessing as mp\n",
    "\n",
    "print(pybamm.__version__)\n",
    "plt.rcParams['font.family'] = 'Arial'\n",
    "plt.rcParams['font.size'] = 15"
   ]
  },
  {
   "cell_type": "code",
   "execution_count": 2,
   "metadata": {},
   "outputs": [],
   "source": [
    "n_var = 5"
   ]
  },
  {
   "cell_type": "code",
   "execution_count": 3,
   "metadata": {
    "scrolled": true
   },
   "outputs": [
    {
     "data": {
      "text/plain": [
       "14400"
      ]
     },
     "execution_count": 3,
     "metadata": {},
     "output_type": "execute_result"
    }
   ],
   "source": [
    "X_grid = np.load(f'X_grid_var{n_var}.npy')\n",
    "len(X_grid)"
   ]
  },
  {
   "cell_type": "code",
   "execution_count": 4,
   "metadata": {},
   "outputs": [
    {
     "data": {
      "text/plain": [
       "array([[0.2 , 0.2 , 0.2 , 3.7 , 3.95],\n",
       "       [0.2 , 0.2 , 0.2 , 3.7 , 4.  ],\n",
       "       [0.2 , 0.2 , 0.2 , 3.7 , 4.05],\n",
       "       ...,\n",
       "       [2.  , 2.  , 1.  , 3.85, 4.  ],\n",
       "       [2.  , 2.  , 1.  , 3.85, 4.05],\n",
       "       [2.  , 2.  , 1.  , 3.85, 4.1 ]])"
      ]
     },
     "execution_count": 4,
     "metadata": {},
     "output_type": "execute_result"
    }
   ],
   "source": [
    "X_grid"
   ]
  },
  {
   "cell_type": "code",
   "execution_count": 5,
   "metadata": {},
   "outputs": [
    {
     "data": {
      "text/plain": [
       "array([0.2 , 0.2 , 0.2 , 3.7 , 3.95])"
      ]
     },
     "execution_count": 5,
     "metadata": {},
     "output_type": "execute_result"
    }
   ],
   "source": [
    "X_grid[0]"
   ]
  },
  {
   "cell_type": "code",
   "execution_count": 6,
   "metadata": {},
   "outputs": [
    {
     "name": "stdout",
     "output_type": "stream",
     "text": [
      "[0.2  0.2  0.2  3.7  3.95]\n"
     ]
    },
    {
     "data": {
      "text/plain": [
       "[[4.999784305869806, 0.8650864868928823]]"
      ]
     },
     "execution_count": 6,
     "metadata": {},
     "output_type": "execute_result"
    }
   ],
   "source": [
    "X_test = X_grid[0]\n",
    "print(X_test)\n",
    "p = mp.Pool(processes = 1)\n",
    "ecm_data_y_temp = p.starmap(worker.aging_test_results,[X_test])\n",
    "ecm_data_y_temp"
   ]
  },
  {
   "cell_type": "code",
   "execution_count": 7,
   "metadata": {},
   "outputs": [
    {
     "name": "stdout",
     "output_type": "stream",
     "text": [
      "720\n"
     ]
    }
   ],
   "source": [
    "n_div = 20\n",
    "n_sample_div = int(len(X_grid)/n_div)\n",
    "print(n_sample_div)"
   ]
  },
  {
   "cell_type": "code",
   "execution_count": 8,
   "metadata": {
    "scrolled": true
   },
   "outputs": [
    {
     "name": "stdout",
     "output_type": "stream",
     "text": [
      "0\n",
      "Time 3.8738333333333332 minutes\n",
      "1\n",
      "Time 3.6353333333333335 minutes\n",
      "2\n",
      "Time 3.582333333333333 minutes\n",
      "3\n",
      "Time 3.5993333333333335 minutes\n",
      "4\n",
      "Time 3.653833333333333 minutes\n",
      "5\n",
      "Time 3.5846666666666667 minutes\n",
      "6\n",
      "Time 3.8511666666666664 minutes\n",
      "7\n",
      "Time 3.716833333333333 minutes\n",
      "8\n",
      "Time 3.6743333333333337 minutes\n",
      "9\n",
      "Time 3.7671666666666668 minutes\n",
      "10\n",
      "Time 3.5281666666666665 minutes\n",
      "11\n",
      "Time 3.4716666666666667 minutes\n",
      "12\n",
      "Time 3.5148333333333333 minutes\n",
      "13\n",
      "Time 3.4765 minutes\n",
      "14\n",
      "Time 3.6388333333333334 minutes\n",
      "15\n",
      "Time 3.7271666666666667 minutes\n",
      "16\n",
      "Time 3.708666666666667 minutes\n",
      "17\n",
      "Time 3.6738333333333335 minutes\n",
      "18\n",
      "Time 3.5433333333333334 minutes\n",
      "19\n",
      "Time 3.5233333333333334 minutes\n"
     ]
    }
   ],
   "source": [
    "ecm_data_y = []\n",
    "for i in range(n_div):\n",
    "    print(i)\n",
    "    num_core = 10\n",
    "    p = mp.Pool(processes = num_core)\n",
    "    st_time = time()\n",
    "    ecm_data_y_temp = p.starmap(worker.aging_test_results,X_grid[n_sample_div*i:n_sample_div*(i+1)]) \n",
    "    ecm_data_y.append(ecm_data_y_temp)\n",
    "    np.save(f'ecm_data_y_var{n_var}_n_div{i}.npy',ecm_data_y)\n",
    "    ed_time = time()\n",
    "    print('Time',np.round((ed_time-st_time),2)/60, 'minutes')\n",
    "    p.close()\n",
    "    p.join()"
   ]
  },
  {
   "cell_type": "code",
   "execution_count": 9,
   "metadata": {},
   "outputs": [],
   "source": [
    "ecm_data_y = np.load('ecm_data_y_var5_n_div19.npy').reshape(-1,2)"
   ]
  },
  {
   "cell_type": "code",
   "execution_count": 10,
   "metadata": {},
   "outputs": [
    {
     "data": {
      "text/plain": [
       "array([[4.99978431, 0.86508649],\n",
       "       [4.99978436, 0.86508665],\n",
       "       [4.99978443, 0.86508783],\n",
       "       ...,\n",
       "       [0.66799437, 0.72775597],\n",
       "       [0.64014206, 0.72045853],\n",
       "       [0.61476164, 0.71379608]])"
      ]
     },
     "execution_count": 10,
     "metadata": {},
     "output_type": "execute_result"
    }
   ],
   "source": [
    "ecm_data_y"
   ]
  },
  {
   "cell_type": "code",
   "execution_count": 11,
   "metadata": {},
   "outputs": [],
   "source": [
    "ecm_data_y = np.array(ecm_data_y)"
   ]
  },
  {
   "cell_type": "code",
   "execution_count": 12,
   "metadata": {
    "scrolled": true
   },
   "outputs": [
    {
     "data": {
      "text/plain": [
       "array([[4.99978431, 0.86508649],\n",
       "       [4.99978436, 0.86508665],\n",
       "       [4.99978443, 0.86508783],\n",
       "       ...,\n",
       "       [0.66799437, 0.72775597],\n",
       "       [0.64014206, 0.72045853],\n",
       "       [0.61476164, 0.71379608]])"
      ]
     },
     "execution_count": 12,
     "metadata": {},
     "output_type": "execute_result"
    }
   ],
   "source": [
    "np.save(f'ecm_data_X_var{n_var}.npy',X_grid)\n",
    "np.save(f'ecm_data_y_var{n_var}.npy',ecm_data_y)\n",
    "np.load(f'ecm_data_y_var{n_var}.npy')"
   ]
  },
  {
   "cell_type": "code",
   "execution_count": 13,
   "metadata": {},
   "outputs": [],
   "source": [
    "ecm_data = np.concatenate([X_grid,ecm_data_y.flatten().reshape(-1,2)],axis=1)\n",
    "np.save(f'ecm_data_var{n_var}.npy',ecm_data)"
   ]
  },
  {
   "cell_type": "code",
   "execution_count": 14,
   "metadata": {
    "scrolled": true
   },
   "outputs": [
    {
     "data": {
      "text/plain": [
       "array([[0.2       , 0.2       , 0.2       , ..., 3.95      , 4.99978431,\n",
       "        0.86508649],\n",
       "       [0.2       , 0.2       , 0.2       , ..., 4.        , 4.99978436,\n",
       "        0.86508665],\n",
       "       [0.2       , 0.2       , 0.2       , ..., 4.05      , 4.99978443,\n",
       "        0.86508783],\n",
       "       ...,\n",
       "       [2.        , 2.        , 1.        , ..., 4.        , 0.66799437,\n",
       "        0.72775597],\n",
       "       [2.        , 2.        , 1.        , ..., 4.05      , 0.64014206,\n",
       "        0.72045853],\n",
       "       [2.        , 2.        , 1.        , ..., 4.1       , 0.61476164,\n",
       "        0.71379608]])"
      ]
     },
     "execution_count": 14,
     "metadata": {},
     "output_type": "execute_result"
    }
   ],
   "source": [
    "np.load(f'ecm_data_var{n_var}.npy')"
   ]
  },
  {
   "cell_type": "markdown",
   "metadata": {},
   "source": [
    "### Data 분석"
   ]
  },
  {
   "cell_type": "code",
   "execution_count": 15,
   "metadata": {},
   "outputs": [],
   "source": [
    "import numpy as np\n",
    "import matplotlib.pyplot as plt\n",
    "\n",
    "\n",
    "ecm_data_load = np.load(f'ecm_data_var{n_var}.npy')\n",
    "X_grid = ecm_data_load[:,:5]\n",
    "ecm_data_y = ecm_data_load[:,-2:]"
   ]
  },
  {
   "cell_type": "code",
   "execution_count": 16,
   "metadata": {
    "scrolled": true
   },
   "outputs": [
    {
     "data": {
      "image/png": "[encoded data removed]",
      "text/plain": [
       "<Figure size 700x400 with 1 Axes>"
      ]
     },
     "metadata": {},
     "output_type": "display_data"
    }
   ],
   "source": [
    "plt.figure(1,figsize=(7,4))\n",
    "plt.rcParams['font.size'] = 15\n",
    "plt.grid(zorder=0)\n",
    "ax = plt.subplot(1,1,1)\n",
    "\n",
    "plt.scatter(ecm_data_y[:,0]*60,ecm_data_y[:,1]*100,zorder=5,s=10,c='b',label='ECM+aging model')\n",
    "plt.xlabel('Charging time [min]')\n",
    "plt.ylabel('Capacity retention [%]')\n",
    "plt.title('ECM+aging model',pad=10,fontweight='bold')\n",
    "\n",
    "for spine in ax.spines.values():\n",
    "     spine.set_linewidth(1.2)\n",
    "# plt.ylim(0.57, 0.83)\n",
    "# plt.xlim(0,2)\n",
    "# plt.legend()"
   ]
  },
  {
   "cell_type": "code",
   "execution_count": 17,
   "metadata": {},
   "outputs": [],
   "source": [
    "ecm_data = np.load('ecm_data_var5.npy')\n",
    "ecm_data_X = ecm_data[:,0:5]\n",
    "ecm_data_y = ecm_data[:,5:]"
   ]
  },
  {
   "cell_type": "code",
   "execution_count": 18,
   "metadata": {},
   "outputs": [
    {
     "name": "stdout",
     "output_type": "stream",
     "text": [
      "[[0.2  0.2  0.2  3.7  3.95]\n",
      " [0.2  0.2  0.2  3.7  4.  ]\n",
      " [0.2  0.2  0.2  3.7  4.05]\n",
      " ...\n",
      " [2.   2.   1.   3.85 4.  ]\n",
      " [2.   2.   1.   3.85 4.05]\n",
      " [2.   2.   1.   3.85 4.1 ]]\n",
      "[[4.99978431 0.86508649]\n",
      " [4.99978436 0.86508665]\n",
      " [4.99978443 0.86508783]\n",
      " ...\n",
      " [0.66799437 0.72775597]\n",
      " [0.64014206 0.72045853]\n",
      " [0.61476164 0.71379608]]\n"
     ]
    }
   ],
   "source": [
    "print(ecm_data_X)\n",
    "print(ecm_data_y)"
   ]
  },
  {
   "cell_type": "code",
   "execution_count": 19,
   "metadata": {},
   "outputs": [
    {
     "name": "stdout",
     "output_type": "stream",
     "text": [
      "[[3.91524067 0.86057951]]\n"
     ]
    }
   ],
   "source": [
    "import joblib\n",
    "from sklearn.neighbors import KNeighborsRegressor\n",
    "\n",
    "# KNN 모델 정의 (기본적으로 Euclidean 거리 사용)\n",
    "knn = KNeighborsRegressor(n_neighbors=5, weights='distance', algorithm='auto')\n",
    "\n",
    "# 모델 학습\n",
    "knn.fit(X_grid, ecm_data_y)\n",
    "\n",
    "# 모델 저장\n",
    "joblib.dump(knn, 'ecm_interp_knn.pkl')\n",
    "\n",
    "# 저장된 모델 불러오기\n",
    "ecm_interp_knn = joblib.load('ecm_interp_knn.pkl')\n",
    "\n",
    "# 불러온 모델로 예측\n",
    "new_input = np.array([0.3,0.3,0.3,3.9,4.2]).reshape(-1,5)\n",
    "y_pred = ecm_interp_knn.predict(new_input)\n",
    "print(y_pred)"
   ]
  },
  {
   "cell_type": "code",
   "execution_count": 20,
   "metadata": {},
   "outputs": [
    {
     "data": {
      "text/plain": [
       "array([[3.64567067, 0.86012611],\n",
       "       [1.49729116, 0.84020466],\n",
       "       [0.97002286, 0.82002044],\n",
       "       [0.78542323, 0.80037281]])"
      ]
     },
     "execution_count": 20,
     "metadata": {},
     "output_type": "execute_result"
    }
   ],
   "source": [
    "X_io = [[0.2,  0.4,  0.3,  3.7,  4.05],\n",
    " [0.8,  0.6,  1. ,  3.7 , 4.1 ],\n",
    " [1.,   1.2 , 1.  , 3.8 , 3.95],\n",
    " [1.4 , 1.4  ,1.  , 3.7 , 4.05]]\n",
    "\n",
    "ecm_interp_knn.predict(X_io)"
   ]
  },
  {
   "cell_type": "code",
   "execution_count": null,
   "metadata": {},
   "outputs": [],
   "source": []
  },
  {
   "cell_type": "code",
   "execution_count": 21,
   "metadata": {},
   "outputs": [],
   "source": [
    "\n",
    "def find_pareto_front(data):\n",
    "    pareto_front_idx = []\n",
    "    pareto_front = []\n",
    "    for i, p1 in enumerate(data):\n",
    "        is_dominated = False\n",
    "        for j, p2 in enumerate(data):\n",
    "            if i != j:\n",
    "                # p2가 p1을 지배하는지 확인\n",
    "                if p2[0] <= p1[0] and p2[1] >= p1[1]:\n",
    "                    is_dominated = True\n",
    "                    break\n",
    "        if not is_dominated:\n",
    "            pareto_front_idx.append(i)\n",
    "            pareto_front.append(p1)\n",
    "    \n",
    "    pareto_front = np.array(pareto_front)\n",
    "    \n",
    "    # 첫 번째 컬럼(0번째 인덱스)에 대해 오름차순 정렬\n",
    "    sorted_indices = np.argsort(pareto_front[:, 0])\n",
    "    pareto_front = pareto_front[sorted_indices]\n",
    "    \n",
    "    return np.array(pareto_front_idx)[sorted_indices], pareto_front\n"
   ]
  },
  {
   "cell_type": "code",
   "execution_count": 23,
   "metadata": {},
   "outputs": [],
   "source": [
    "pareto_front_idx, pareto_front = find_pareto_front(ecm_data_y)\n",
    "pareto_X = X_grid[pareto_front_idx]\n",
    "pareto_df = pd.DataFrame(pareto_X,columns=['X1','X2','X3','X4','X5'])\n",
    "pareto_df['tc'] = pareto_front[:,0]\n",
    "pareto_df['Cr'] = pareto_front[:,1]"
   ]
  },
  {
   "cell_type": "code",
   "execution_count": 24,
   "metadata": {},
   "outputs": [
    {
     "data": {
      "text/html": [
       "<div>\n",
       "<style scoped>\n",
       "    .dataframe tbody tr th:only-of-type {\n",
       "        vertical-align: middle;\n",
       "    }\n",
       "\n",
       "    .dataframe tbody tr th {\n",
       "        vertical-align: top;\n",
       "    }\n",
       "\n",
       "    .dataframe thead th {\n",
       "        text-align: right;\n",
       "    }\n",
       "</style>\n",
       "<table border=\"1\" class=\"dataframe\">\n",
       "  <thead>\n",
       "    <tr style=\"text-align: right;\">\n",
       "      <th></th>\n",
       "      <th>X1</th>\n",
       "      <th>X2</th>\n",
       "      <th>X3</th>\n",
       "      <th>X4</th>\n",
       "      <th>X5</th>\n",
       "      <th>tc</th>\n",
       "      <th>Cr</th>\n",
       "    </tr>\n",
       "  </thead>\n",
       "  <tbody>\n",
       "    <tr>\n",
       "      <th>0</th>\n",
       "      <td>2.0</td>\n",
       "      <td>2.0</td>\n",
       "      <td>1.0</td>\n",
       "      <td>3.70</td>\n",
       "      <td>4.10</td>\n",
       "      <td>0.614762</td>\n",
       "      <td>0.713979</td>\n",
       "    </tr>\n",
       "    <tr>\n",
       "      <th>1</th>\n",
       "      <td>1.8</td>\n",
       "      <td>2.0</td>\n",
       "      <td>1.0</td>\n",
       "      <td>3.70</td>\n",
       "      <td>4.10</td>\n",
       "      <td>0.623501</td>\n",
       "      <td>0.720934</td>\n",
       "    </tr>\n",
       "    <tr>\n",
       "      <th>2</th>\n",
       "      <td>2.0</td>\n",
       "      <td>1.8</td>\n",
       "      <td>1.0</td>\n",
       "      <td>3.85</td>\n",
       "      <td>4.10</td>\n",
       "      <td>0.626192</td>\n",
       "      <td>0.723796</td>\n",
       "    </tr>\n",
       "    <tr>\n",
       "      <th>3</th>\n",
       "      <td>1.8</td>\n",
       "      <td>2.0</td>\n",
       "      <td>1.0</td>\n",
       "      <td>3.75</td>\n",
       "      <td>4.10</td>\n",
       "      <td>0.628262</td>\n",
       "      <td>0.724629</td>\n",
       "    </tr>\n",
       "    <tr>\n",
       "      <th>4</th>\n",
       "      <td>2.0</td>\n",
       "      <td>1.8</td>\n",
       "      <td>1.0</td>\n",
       "      <td>3.80</td>\n",
       "      <td>4.10</td>\n",
       "      <td>0.632284</td>\n",
       "      <td>0.728172</td>\n",
       "    </tr>\n",
       "    <tr>\n",
       "      <th>...</th>\n",
       "      <td>...</td>\n",
       "      <td>...</td>\n",
       "      <td>...</td>\n",
       "      <td>...</td>\n",
       "      <td>...</td>\n",
       "      <td>...</td>\n",
       "      <td>...</td>\n",
       "    </tr>\n",
       "    <tr>\n",
       "      <th>254</th>\n",
       "      <td>0.2</td>\n",
       "      <td>0.2</td>\n",
       "      <td>0.3</td>\n",
       "      <td>3.85</td>\n",
       "      <td>4.00</td>\n",
       "      <td>4.638414</td>\n",
       "      <td>0.864244</td>\n",
       "    </tr>\n",
       "    <tr>\n",
       "      <th>255</th>\n",
       "      <td>0.2</td>\n",
       "      <td>0.2</td>\n",
       "      <td>0.3</td>\n",
       "      <td>3.75</td>\n",
       "      <td>4.05</td>\n",
       "      <td>4.717883</td>\n",
       "      <td>0.864429</td>\n",
       "    </tr>\n",
       "    <tr>\n",
       "      <th>256</th>\n",
       "      <td>0.2</td>\n",
       "      <td>0.2</td>\n",
       "      <td>0.3</td>\n",
       "      <td>3.75</td>\n",
       "      <td>4.10</td>\n",
       "      <td>4.791819</td>\n",
       "      <td>0.864602</td>\n",
       "    </tr>\n",
       "    <tr>\n",
       "      <th>257</th>\n",
       "      <td>0.2</td>\n",
       "      <td>0.2</td>\n",
       "      <td>0.9</td>\n",
       "      <td>3.75</td>\n",
       "      <td>4.10</td>\n",
       "      <td>4.873825</td>\n",
       "      <td>0.864892</td>\n",
       "    </tr>\n",
       "    <tr>\n",
       "      <th>258</th>\n",
       "      <td>0.2</td>\n",
       "      <td>0.2</td>\n",
       "      <td>1.0</td>\n",
       "      <td>3.75</td>\n",
       "      <td>4.10</td>\n",
       "      <td>4.920391</td>\n",
       "      <td>0.866039</td>\n",
       "    </tr>\n",
       "  </tbody>\n",
       "</table>\n",
       "<p>259 rows × 7 columns</p>\n",
       "</div>"
      ],
      "text/plain": [
       "      X1   X2   X3    X4    X5        tc        Cr\n",
       "0    2.0  2.0  1.0  3.70  4.10  0.614762  0.713979\n",
       "1    1.8  2.0  1.0  3.70  4.10  0.623501  0.720934\n",
       "2    2.0  1.8  1.0  3.85  4.10  0.626192  0.723796\n",
       "3    1.8  2.0  1.0  3.75  4.10  0.628262  0.724629\n",
       "4    2.0  1.8  1.0  3.80  4.10  0.632284  0.728172\n",
       "..   ...  ...  ...   ...   ...       ...       ...\n",
       "254  0.2  0.2  0.3  3.85  4.00  4.638414  0.864244\n",
       "255  0.2  0.2  0.3  3.75  4.05  4.717883  0.864429\n",
       "256  0.2  0.2  0.3  3.75  4.10  4.791819  0.864602\n",
       "257  0.2  0.2  0.9  3.75  4.10  4.873825  0.864892\n",
       "258  0.2  0.2  1.0  3.75  4.10  4.920391  0.866039\n",
       "\n",
       "[259 rows x 7 columns]"
      ]
     },
     "execution_count": 24,
     "metadata": {},
     "output_type": "execute_result"
    }
   ],
   "source": [
    "pareto_df"
   ]
  },
  {
   "cell_type": "code",
   "execution_count": null,
   "metadata": {},
   "outputs": [],
   "source": []
  },
  {
   "cell_type": "code",
   "execution_count": null,
   "metadata": {},
   "outputs": [],
   "source": []
  }
 ],
 "metadata": {
  "kernelspec": {
   "display_name": "pybamm_24_9",
   "language": "python",
   "name": "pybamm_24_9"
  },
  "language_info": {
   "codemirror_mode": {
    "name": "ipython",
    "version": 3
   },
   "file_extension": ".py",
   "mimetype": "text/x-python",
   "name": "python",
   "nbconvert_exporter": "python",
   "pygments_lexer": "ipython3",
   "version": "3.11.10"
  }
 },
 "nbformat": 4,
 "nbformat_minor": 4
}
